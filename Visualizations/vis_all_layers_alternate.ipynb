{
  "nbformat": 4,
  "nbformat_minor": 0,
  "metadata": {
    "colab": {
      "name": "vis_all_layers_alternate.ipynb",
      "provenance": []
    },
    "kernelspec": {
      "name": "python3",
      "display_name": "Python 3"
    },
    "language_info": {
      "name": "python"
    },
    "accelerator": "GPU"
  },
  "cells": [
    {
      "cell_type": "code",
      "metadata": {
        "id": "i8QW5Upo4d8n"
      },
      "source": [
        "from keras.models import Sequential\n",
        "from keras.layers.core import Flatten, Dense, Dropout\n",
        "from keras.layers.convolutional import Convolution2D, MaxPooling2D, ZeroPadding2D\n",
        "from keras.optimizers import Adam\n",
        "import numpy as np\n",
        "from matplotlib import pyplot as plt\n",
        "from keras.models import Model\n",
        "import tensorflow as tf\n",
        "from keras.preprocessing.image import ImageDataGenerator\n",
        "from keras.models import Sequential\n",
        "from keras.layers.core import Flatten, Dense, Dropout\n",
        "from keras.layers.convolutional import Convolution2D, MaxPooling2D, ZeroPadding2D\n",
        "from keras.optimizers import SGD\n",
        "import numpy as np\n",
        "from matplotlib import pyplot as plt\n",
        "from keras.models import Model"
      ],
      "execution_count": null,
      "outputs": []
    },
    {
      "cell_type": "code",
      "metadata": {
        "colab": {
          "base_uri": "https://localhost:8080/"
        },
        "id": "DqHdvKAK5A5T",
        "outputId": "1d4b79d9-416d-47a1-af33-09f60d21db5e"
      },
      "source": [
        "# Load the dataset\n",
        "data_path = '/content/drive/MyDrive/Phd_Data_set_Implementation/Aug-Training-four'\n",
        "\n",
        "train_datagen = ImageDataGenerator(rescale=1./255)\n",
        "train_datagenerator = train_datagen.flow_from_directory(\n",
        "    data_path,\n",
        "    target_size=(32, 32),\n",
        "    class_mode='categorical',\n",
        "    batch_size=32\n",
        ")\n",
        "\n",
        "test_data_path = '/content/drive/MyDrive/Phd_Data_set_Implementation/TESTING-FOUR-CLASSES-by-dec20'\n",
        "\n",
        "test_datagen = ImageDataGenerator(rescale=1./255)\n",
        "test_datagenerator = test_datagen.flow_from_directory(\n",
        "    test_data_path,\n",
        "    target_size=(32, 32),\n",
        "    class_mode='categorical',\n",
        "    batch_size=32\n",
        ")"
      ],
      "execution_count": null,
      "outputs": [
        {
          "output_type": "stream",
          "text": [
            "Found 9645 images belonging to 4 classes.\n",
            "Found 45 images belonging to 4 classes.\n"
          ],
          "name": "stdout"
        }
      ]
    },
    {
      "cell_type": "code",
      "metadata": {
        "id": "pPvxHC6Y5ENq"
      },
      "source": [
        "model = Sequential()\n",
        "model.add(ZeroPadding2D((1,1),input_shape=(32,32, 3)))\n",
        "model.add(Convolution2D(64, 3, 3, activation='relu'))\n",
        "model.add(ZeroPadding2D((1,1)))\n",
        "model.add(Convolution2D(64, 3, 3, activation='relu'))\n",
        "model.add(MaxPooling2D((2,2), strides=(2,2)))\n",
        "\n",
        "model.add(ZeroPadding2D((1,1)))\n",
        "model.add(Convolution2D(128, 3, 3, activation='relu'))\n",
        "model.add(ZeroPadding2D((1,1)))\n",
        "model.add(Convolution2D(128, 3, 3, activation='relu'))\n",
        "model.add(MaxPooling2D((2,2), strides=(2,2), padding= 'same'))\n",
        "\n",
        "model.add(ZeroPadding2D((1,1)))\n",
        "model.add(Convolution2D(256, 3, 3, activation='relu'))\n",
        "model.add(ZeroPadding2D((1,1)))\n",
        "model.add(Convolution2D(256, 3, 3, activation='relu'))\n",
        "model.add(ZeroPadding2D((1,1)))\n",
        "model.add(Convolution2D(256, 3, 3, activation='relu'))\n",
        "model.add(MaxPooling2D((2,2), strides=(2,2), padding='same'))\n",
        "\n",
        "model.add(ZeroPadding2D((1,1)))\n",
        "model.add(Convolution2D(512, 3, 3, activation='relu'))\n",
        "model.add(ZeroPadding2D((1,1)))\n",
        "model.add(Convolution2D(512, 3, 3, activation='relu'))\n",
        "model.add(ZeroPadding2D((1,1)))\n",
        "model.add(Convolution2D(512, 3, 3, activation='relu'))\n",
        "model.add(MaxPooling2D((2,2), strides=(2,2), padding='same'))\n",
        "\n",
        "model.add(ZeroPadding2D((1,1)))\n",
        "model.add(Convolution2D(512, 3, 3, activation='relu'))\n",
        "model.add(ZeroPadding2D((1,1)))\n",
        "model.add(Convolution2D(512, 3, 3, activation='relu'))\n",
        "model.add(ZeroPadding2D((1,1)))\n",
        "model.add(Convolution2D(512, 3, 3, activation='relu'))\n",
        "model.add(MaxPooling2D((2,2), strides=(2,2), padding='same'))\n",
        "\n",
        "model.add(Flatten())\n",
        "model.add(Dense(4096, activation='relu'))\n",
        "model.add(Dropout(0.5))\n",
        "model.add(Dense(4096, activation='relu'))\n",
        "model.add(Dropout(0.5))\n",
        "model.add(Dense(4, activation='softmax'))\n"
      ],
      "execution_count": null,
      "outputs": []
    },
    {
      "cell_type": "code",
      "metadata": {
        "id": "iEhbq8iOIqSB"
      },
      "source": [
        "sgd = SGD(lr=0.1, decay=1e-6, momentum=0.9, nesterov=True)\n",
        "model.compile(optimizer=sgd, loss='categorical_crossentropy')"
      ],
      "execution_count": null,
      "outputs": []
    },
    {
      "cell_type": "markdown",
      "metadata": {
        "id": "14xjVOD-cyuQ"
      },
      "source": [
        ""
      ]
    },
    {
      "cell_type": "code",
      "metadata": {
        "colab": {
          "base_uri": "https://localhost:8080/"
        },
        "id": "vfzxfLATJSxi",
        "outputId": "a8897a6f-1f3d-4c88-e0b5-0f13df3f5bde"
      },
      "source": [
        "model.summary()"
      ],
      "execution_count": null,
      "outputs": [
        {
          "output_type": "stream",
          "text": [
            "Model: \"sequential_2\"\n",
            "_________________________________________________________________\n",
            "Layer (type)                 Output Shape              Param #   \n",
            "=================================================================\n",
            "zero_padding2d_26 (ZeroPaddi (None, 34, 34, 3)         0         \n",
            "_________________________________________________________________\n",
            "conv2d_26 (Conv2D)           (None, 11, 11, 64)        1792      \n",
            "_________________________________________________________________\n",
            "zero_padding2d_27 (ZeroPaddi (None, 13, 13, 64)        0         \n",
            "_________________________________________________________________\n",
            "conv2d_27 (Conv2D)           (None, 4, 4, 64)          36928     \n",
            "_________________________________________________________________\n",
            "max_pooling2d_10 (MaxPooling (None, 2, 2, 64)          0         \n",
            "_________________________________________________________________\n",
            "zero_padding2d_28 (ZeroPaddi (None, 4, 4, 64)          0         \n",
            "_________________________________________________________________\n",
            "conv2d_28 (Conv2D)           (None, 1, 1, 128)         73856     \n",
            "_________________________________________________________________\n",
            "zero_padding2d_29 (ZeroPaddi (None, 3, 3, 128)         0         \n",
            "_________________________________________________________________\n",
            "conv2d_29 (Conv2D)           (None, 1, 1, 128)         147584    \n",
            "_________________________________________________________________\n",
            "max_pooling2d_11 (MaxPooling (None, 1, 1, 128)         0         \n",
            "_________________________________________________________________\n",
            "zero_padding2d_30 (ZeroPaddi (None, 3, 3, 128)         0         \n",
            "_________________________________________________________________\n",
            "conv2d_30 (Conv2D)           (None, 1, 1, 256)         295168    \n",
            "_________________________________________________________________\n",
            "zero_padding2d_31 (ZeroPaddi (None, 3, 3, 256)         0         \n",
            "_________________________________________________________________\n",
            "conv2d_31 (Conv2D)           (None, 1, 1, 256)         590080    \n",
            "_________________________________________________________________\n",
            "zero_padding2d_32 (ZeroPaddi (None, 3, 3, 256)         0         \n",
            "_________________________________________________________________\n",
            "conv2d_32 (Conv2D)           (None, 1, 1, 256)         590080    \n",
            "_________________________________________________________________\n",
            "max_pooling2d_12 (MaxPooling (None, 1, 1, 256)         0         \n",
            "_________________________________________________________________\n",
            "zero_padding2d_33 (ZeroPaddi (None, 3, 3, 256)         0         \n",
            "_________________________________________________________________\n",
            "conv2d_33 (Conv2D)           (None, 1, 1, 512)         1180160   \n",
            "_________________________________________________________________\n",
            "zero_padding2d_34 (ZeroPaddi (None, 3, 3, 512)         0         \n",
            "_________________________________________________________________\n",
            "conv2d_34 (Conv2D)           (None, 1, 1, 512)         2359808   \n",
            "_________________________________________________________________\n",
            "zero_padding2d_35 (ZeroPaddi (None, 3, 3, 512)         0         \n",
            "_________________________________________________________________\n",
            "conv2d_35 (Conv2D)           (None, 1, 1, 512)         2359808   \n",
            "_________________________________________________________________\n",
            "max_pooling2d_13 (MaxPooling (None, 1, 1, 512)         0         \n",
            "_________________________________________________________________\n",
            "zero_padding2d_36 (ZeroPaddi (None, 3, 3, 512)         0         \n",
            "_________________________________________________________________\n",
            "conv2d_36 (Conv2D)           (None, 1, 1, 512)         2359808   \n",
            "_________________________________________________________________\n",
            "zero_padding2d_37 (ZeroPaddi (None, 3, 3, 512)         0         \n",
            "_________________________________________________________________\n",
            "conv2d_37 (Conv2D)           (None, 1, 1, 512)         2359808   \n",
            "_________________________________________________________________\n",
            "zero_padding2d_38 (ZeroPaddi (None, 3, 3, 512)         0         \n",
            "_________________________________________________________________\n",
            "conv2d_38 (Conv2D)           (None, 1, 1, 512)         2359808   \n",
            "_________________________________________________________________\n",
            "max_pooling2d_14 (MaxPooling (None, 1, 1, 512)         0         \n",
            "_________________________________________________________________\n",
            "flatten_2 (Flatten)          (None, 512)               0         \n",
            "_________________________________________________________________\n",
            "dense_6 (Dense)              (None, 4096)              2101248   \n",
            "_________________________________________________________________\n",
            "dropout_4 (Dropout)          (None, 4096)              0         \n",
            "_________________________________________________________________\n",
            "dense_7 (Dense)              (None, 4096)              16781312  \n",
            "_________________________________________________________________\n",
            "dropout_5 (Dropout)          (None, 4096)              0         \n",
            "_________________________________________________________________\n",
            "dense_8 (Dense)              (None, 4)                 16388     \n",
            "=================================================================\n",
            "Total params: 33,613,636\n",
            "Trainable params: 33,613,636\n",
            "Non-trainable params: 0\n",
            "_________________________________________________________________\n"
          ],
          "name": "stdout"
        }
      ]
    },
    {
      "cell_type": "code",
      "metadata": {
        "colab": {
          "base_uri": "https://localhost:8080/"
        },
        "id": "IiEYWwqtJm1X",
        "outputId": "bd7f232d-54d3-4014-eafa-f1b630ca8af3"
      },
      "source": [
        "history = model.fit(train_datagenerator,epochs=150,validation_data=test_datagenerator,steps_per_epoch=32 )"
      ],
      "execution_count": null,
      "outputs": [
        {
          "output_type": "stream",
          "text": [
            "Epoch 1/150\n",
            "32/32 [==============================] - 243s 8s/step - loss: 1.3856 - val_loss: 1.3774\n",
            "Epoch 2/150\n",
            "32/32 [==============================] - 203s 6s/step - loss: 1.3902 - val_loss: 1.3865\n",
            "Epoch 3/150\n",
            "32/32 [==============================] - 212s 7s/step - loss: 1.3947 - val_loss: 1.3816\n",
            "Epoch 4/150\n",
            "32/32 [==============================] - 220s 7s/step - loss: 1.3992 - val_loss: 1.3877\n",
            "Epoch 5/150\n",
            "32/32 [==============================] - 136s 4s/step - loss: 1.3932 - val_loss: 1.3803\n",
            "Epoch 6/150\n",
            "32/32 [==============================] - 151s 5s/step - loss: 1.3935 - val_loss: 1.3887\n",
            "Epoch 7/150\n",
            "32/32 [==============================] - 120s 4s/step - loss: 1.4074 - val_loss: 1.4258\n",
            "Epoch 8/150\n",
            "32/32 [==============================] - 100s 3s/step - loss: 1.4035 - val_loss: 1.3817\n",
            "Epoch 9/150\n",
            "32/32 [==============================] - 133s 4s/step - loss: 1.3941 - val_loss: 1.3724\n",
            "Epoch 10/150\n",
            "32/32 [==============================] - 88s 3s/step - loss: 1.3931 - val_loss: 1.3863\n",
            "Epoch 11/150\n",
            "32/32 [==============================] - 63s 2s/step - loss: 1.3863 - val_loss: 1.3770\n",
            "Epoch 12/150\n",
            "32/32 [==============================] - 65s 2s/step - loss: 1.3930 - val_loss: 1.3761\n",
            "Epoch 13/150\n",
            "32/32 [==============================] - 54s 2s/step - loss: 1.3914 - val_loss: 1.3805\n",
            "Epoch 14/150\n",
            "32/32 [==============================] - 52s 2s/step - loss: 1.3898 - val_loss: 1.3808\n",
            "Epoch 15/150\n",
            "32/32 [==============================] - 48s 2s/step - loss: 1.3842 - val_loss: 1.3713\n",
            "Epoch 16/150\n",
            "32/32 [==============================] - 53s 2s/step - loss: 1.3784 - val_loss: 1.3732\n",
            "Epoch 17/150\n",
            "32/32 [==============================] - 39s 1s/step - loss: 1.3842 - val_loss: 1.3805\n",
            "Epoch 18/150\n",
            "32/32 [==============================] - 33s 1s/step - loss: 1.3834 - val_loss: 1.3846\n",
            "Epoch 19/150\n",
            "32/32 [==============================] - 23s 730ms/step - loss: 1.3847 - val_loss: 1.3851\n",
            "Epoch 20/150\n",
            "32/32 [==============================] - 24s 736ms/step - loss: 1.3900 - val_loss: 1.3821\n",
            "Epoch 21/150\n",
            "32/32 [==============================] - 45s 1s/step - loss: 1.3822 - val_loss: 1.3749\n",
            "Epoch 22/150\n",
            "32/32 [==============================] - 20s 643ms/step - loss: 1.3830 - val_loss: 1.3741\n",
            "Epoch 23/150\n",
            "32/32 [==============================] - 23s 723ms/step - loss: 1.3842 - val_loss: 1.3842\n",
            "Epoch 24/150\n",
            "32/32 [==============================] - 18s 565ms/step - loss: 1.3907 - val_loss: 1.3776\n",
            "Epoch 25/150\n",
            "32/32 [==============================] - 17s 536ms/step - loss: 1.3902 - val_loss: 1.3727\n",
            "Epoch 26/150\n",
            "32/32 [==============================] - 15s 468ms/step - loss: 1.3901 - val_loss: 1.3789\n",
            "Epoch 27/150\n",
            "32/32 [==============================] - 13s 396ms/step - loss: 1.3902 - val_loss: 1.3821\n",
            "Epoch 28/150\n",
            "32/32 [==============================] - 13s 401ms/step - loss: 1.3874 - val_loss: 1.3809\n",
            "Epoch 29/150\n",
            "32/32 [==============================] - 11s 340ms/step - loss: 1.3906 - val_loss: 1.3764\n",
            "Epoch 30/150\n",
            "32/32 [==============================] - 10s 300ms/step - loss: 1.3875 - val_loss: 1.3808\n",
            "Epoch 31/150\n",
            "32/32 [==============================] - 7s 208ms/step - loss: 1.3872 - val_loss: 1.3804\n",
            "Epoch 32/150\n",
            "32/32 [==============================] - 31s 1s/step - loss: 1.3821 - val_loss: 1.3852\n",
            "Epoch 33/150\n",
            "32/32 [==============================] - 8s 239ms/step - loss: 1.3958 - val_loss: 1.3925\n",
            "Epoch 34/150\n",
            "32/32 [==============================] - 7s 221ms/step - loss: 1.3926 - val_loss: 1.3693\n",
            "Epoch 35/150\n",
            "32/32 [==============================] - 6s 192ms/step - loss: 1.3937 - val_loss: 1.3722\n",
            "Epoch 36/150\n",
            "32/32 [==============================] - 7s 214ms/step - loss: 1.3885 - val_loss: 1.3927\n",
            "Epoch 37/150\n",
            "32/32 [==============================] - 6s 180ms/step - loss: 1.3858 - val_loss: 1.3851\n",
            "Epoch 38/150\n",
            "32/32 [==============================] - 7s 220ms/step - loss: 1.3916 - val_loss: 1.3728\n",
            "Epoch 39/150\n",
            "32/32 [==============================] - 5s 171ms/step - loss: 1.3932 - val_loss: 1.4105\n",
            "Epoch 40/150\n",
            "32/32 [==============================] - 8s 239ms/step - loss: 1.3870 - val_loss: 1.3912\n",
            "Epoch 41/150\n",
            "32/32 [==============================] - 6s 180ms/step - loss: 1.3906 - val_loss: 1.3735\n",
            "Epoch 42/150\n",
            "32/32 [==============================] - 5s 159ms/step - loss: 1.3838 - val_loss: 1.3943\n",
            "Epoch 43/150\n",
            "32/32 [==============================] - 5s 147ms/step - loss: 1.3953 - val_loss: 1.3717\n",
            "Epoch 44/150\n",
            "32/32 [==============================] - 5s 145ms/step - loss: 1.3985 - val_loss: 1.3804\n",
            "Epoch 45/150\n",
            "32/32 [==============================] - 4s 128ms/step - loss: 1.3749 - val_loss: 1.3871\n",
            "Epoch 46/150\n",
            "32/32 [==============================] - 4s 113ms/step - loss: 1.3869 - val_loss: 1.3833\n",
            "Epoch 47/150\n",
            "32/32 [==============================] - 3s 89ms/step - loss: 1.3863 - val_loss: 1.3711\n",
            "Epoch 48/150\n",
            "32/32 [==============================] - 4s 131ms/step - loss: 1.4013 - val_loss: 1.3753\n",
            "Epoch 49/150\n",
            "32/32 [==============================] - 3s 106ms/step - loss: 1.3852 - val_loss: 1.3899\n",
            "Epoch 50/150\n",
            "32/32 [==============================] - 4s 113ms/step - loss: 1.3893 - val_loss: 1.3779\n",
            "Epoch 51/150\n",
            "32/32 [==============================] - 3s 101ms/step - loss: 1.3934 - val_loss: 1.3807\n",
            "Epoch 52/150\n",
            "32/32 [==============================] - 3s 92ms/step - loss: 1.3869 - val_loss: 1.3844\n",
            "Epoch 53/150\n",
            "32/32 [==============================] - 3s 91ms/step - loss: 1.3868 - val_loss: 1.3722\n",
            "Epoch 54/150\n",
            "32/32 [==============================] - 3s 104ms/step - loss: 1.3943 - val_loss: 1.3860\n",
            "Epoch 55/150\n",
            "32/32 [==============================] - 3s 92ms/step - loss: 1.3895 - val_loss: 1.3767\n",
            "Epoch 56/150\n",
            "32/32 [==============================] - 3s 93ms/step - loss: 1.3840 - val_loss: 1.3707\n",
            "Epoch 57/150\n",
            "32/32 [==============================] - 3s 106ms/step - loss: 1.4003 - val_loss: 1.3827\n",
            "Epoch 58/150\n",
            "32/32 [==============================] - 4s 110ms/step - loss: 1.3903 - val_loss: 1.3781\n",
            "Epoch 59/150\n",
            "32/32 [==============================] - 3s 92ms/step - loss: 1.3783 - val_loss: 1.3939\n",
            "Epoch 60/150\n",
            "32/32 [==============================] - 3s 93ms/step - loss: 1.3903 - val_loss: 1.3840\n",
            "Epoch 61/150\n",
            "32/32 [==============================] - 3s 95ms/step - loss: 1.3906 - val_loss: 1.3740\n",
            "Epoch 62/150\n",
            "32/32 [==============================] - 3s 91ms/step - loss: 1.3851 - val_loss: 1.3807\n",
            "Epoch 63/150\n",
            "32/32 [==============================] - 3s 88ms/step - loss: 1.3868 - val_loss: 1.3917\n",
            "Epoch 64/150\n",
            "32/32 [==============================] - 3s 97ms/step - loss: 1.3860 - val_loss: 1.3781\n",
            "Epoch 65/150\n",
            "32/32 [==============================] - 3s 86ms/step - loss: 1.3876 - val_loss: 1.3847\n",
            "Epoch 66/150\n",
            "32/32 [==============================] - 3s 106ms/step - loss: 1.3972 - val_loss: 1.3747\n",
            "Epoch 67/150\n",
            "32/32 [==============================] - 3s 89ms/step - loss: 1.3928 - val_loss: 1.3713\n",
            "Epoch 68/150\n",
            "32/32 [==============================] - 3s 88ms/step - loss: 1.3854 - val_loss: 1.3752\n",
            "Epoch 69/150\n",
            "32/32 [==============================] - 3s 85ms/step - loss: 1.3910 - val_loss: 1.3731\n",
            "Epoch 70/150\n",
            "32/32 [==============================] - 3s 86ms/step - loss: 1.3735 - val_loss: 1.3928\n",
            "Epoch 71/150\n",
            "32/32 [==============================] - 3s 90ms/step - loss: 1.3861 - val_loss: 1.3774\n",
            "Epoch 72/150\n",
            "32/32 [==============================] - 3s 88ms/step - loss: 1.3948 - val_loss: 1.3736\n",
            "Epoch 73/150\n",
            "32/32 [==============================] - 3s 86ms/step - loss: 1.3880 - val_loss: 1.3781\n",
            "Epoch 74/150\n",
            "32/32 [==============================] - 3s 93ms/step - loss: 1.3927 - val_loss: 1.3889\n",
            "Epoch 75/150\n",
            "32/32 [==============================] - 3s 95ms/step - loss: 1.3850 - val_loss: 1.3723\n",
            "Epoch 76/150\n",
            "32/32 [==============================] - 3s 87ms/step - loss: 1.3827 - val_loss: 1.3857\n",
            "Epoch 77/150\n",
            "32/32 [==============================] - 3s 94ms/step - loss: 1.3870 - val_loss: 1.3783\n",
            "Epoch 78/150\n",
            "32/32 [==============================] - 3s 93ms/step - loss: 1.3943 - val_loss: 1.3717\n",
            "Epoch 79/150\n",
            "32/32 [==============================] - 3s 86ms/step - loss: 1.3867 - val_loss: 1.3759\n",
            "Epoch 80/150\n",
            "32/32 [==============================] - 3s 86ms/step - loss: 1.3849 - val_loss: 1.3771\n",
            "Epoch 81/150\n",
            "32/32 [==============================] - 3s 86ms/step - loss: 1.3858 - val_loss: 1.3826\n",
            "Epoch 82/150\n",
            "32/32 [==============================] - 3s 89ms/step - loss: 1.3804 - val_loss: 1.3778\n",
            "Epoch 83/150\n",
            "32/32 [==============================] - 3s 90ms/step - loss: 1.3836 - val_loss: 1.3887\n",
            "Epoch 84/150\n",
            "32/32 [==============================] - 3s 89ms/step - loss: 1.3887 - val_loss: 1.3716\n",
            "Epoch 85/150\n",
            "32/32 [==============================] - 3s 89ms/step - loss: 1.4111 - val_loss: 1.3889\n",
            "Epoch 86/150\n",
            "32/32 [==============================] - 3s 87ms/step - loss: 1.3919 - val_loss: 1.3782\n",
            "Epoch 87/150\n",
            "32/32 [==============================] - 3s 87ms/step - loss: 1.3845 - val_loss: 1.3739\n",
            "Epoch 88/150\n",
            "32/32 [==============================] - 3s 87ms/step - loss: 1.3872 - val_loss: 1.3717\n",
            "Epoch 89/150\n",
            "32/32 [==============================] - 3s 93ms/step - loss: 1.3927 - val_loss: 1.3781\n",
            "Epoch 90/150\n",
            "32/32 [==============================] - 3s 85ms/step - loss: 1.3863 - val_loss: 1.3870\n",
            "Epoch 91/150\n",
            "32/32 [==============================] - 3s 88ms/step - loss: 1.3880 - val_loss: 1.3785\n",
            "Epoch 92/150\n",
            "32/32 [==============================] - 3s 87ms/step - loss: 1.3891 - val_loss: 1.3839\n",
            "Epoch 93/150\n",
            "32/32 [==============================] - 3s 89ms/step - loss: 1.3885 - val_loss: 1.3871\n",
            "Epoch 94/150\n",
            "32/32 [==============================] - 3s 92ms/step - loss: 1.3820 - val_loss: 1.4147\n",
            "Epoch 95/150\n",
            "32/32 [==============================] - 3s 88ms/step - loss: 1.3849 - val_loss: 1.3831\n",
            "Epoch 96/150\n",
            "32/32 [==============================] - 3s 88ms/step - loss: 1.3893 - val_loss: 1.3719\n",
            "Epoch 97/150\n",
            "32/32 [==============================] - 3s 89ms/step - loss: 1.3829 - val_loss: 1.3844\n",
            "Epoch 98/150\n",
            "32/32 [==============================] - 3s 90ms/step - loss: 1.3923 - val_loss: 1.3762\n",
            "Epoch 99/150\n",
            "32/32 [==============================] - 3s 89ms/step - loss: 1.3892 - val_loss: 1.3944\n",
            "Epoch 100/150\n",
            "32/32 [==============================] - 3s 87ms/step - loss: 1.3905 - val_loss: 1.3730\n",
            "Epoch 101/150\n",
            "32/32 [==============================] - 3s 88ms/step - loss: 1.3836 - val_loss: 1.3893\n",
            "Epoch 102/150\n",
            "32/32 [==============================] - 3s 88ms/step - loss: 1.3904 - val_loss: 1.3734\n",
            "Epoch 103/150\n",
            "32/32 [==============================] - 3s 90ms/step - loss: 1.3885 - val_loss: 1.3815\n",
            "Epoch 104/150\n",
            "32/32 [==============================] - 3s 87ms/step - loss: 1.3929 - val_loss: 1.3809\n",
            "Epoch 105/150\n",
            "32/32 [==============================] - 3s 85ms/step - loss: 1.3847 - val_loss: 1.3799\n",
            "Epoch 106/150\n",
            "32/32 [==============================] - 3s 87ms/step - loss: 1.3839 - val_loss: 1.3709\n",
            "Epoch 107/150\n",
            "32/32 [==============================] - 3s 88ms/step - loss: 1.3883 - val_loss: 1.3956\n",
            "Epoch 108/150\n",
            "32/32 [==============================] - 3s 87ms/step - loss: 1.3867 - val_loss: 1.3778\n",
            "Epoch 109/150\n",
            "32/32 [==============================] - 3s 86ms/step - loss: 1.3930 - val_loss: 1.3779\n",
            "Epoch 110/150\n",
            "32/32 [==============================] - 3s 86ms/step - loss: 1.3885 - val_loss: 1.3732\n",
            "Epoch 111/150\n",
            "32/32 [==============================] - 3s 86ms/step - loss: 1.3860 - val_loss: 1.3858\n",
            "Epoch 112/150\n",
            "32/32 [==============================] - 3s 87ms/step - loss: 1.3879 - val_loss: 1.3730\n",
            "Epoch 113/150\n",
            "32/32 [==============================] - 3s 86ms/step - loss: 1.3881 - val_loss: 1.3732\n",
            "Epoch 114/150\n",
            "32/32 [==============================] - 3s 87ms/step - loss: 1.3828 - val_loss: 1.3831\n",
            "Epoch 115/150\n",
            "32/32 [==============================] - 3s 86ms/step - loss: 1.3894 - val_loss: 1.3771\n",
            "Epoch 116/150\n",
            "32/32 [==============================] - 3s 88ms/step - loss: 1.3904 - val_loss: 1.3708\n",
            "Epoch 117/150\n",
            "32/32 [==============================] - 3s 91ms/step - loss: 1.3847 - val_loss: 1.3880\n",
            "Epoch 118/150\n",
            "32/32 [==============================] - 3s 86ms/step - loss: 1.3905 - val_loss: 1.3804\n",
            "Epoch 119/150\n",
            "32/32 [==============================] - 3s 86ms/step - loss: 1.3924 - val_loss: 1.3910\n",
            "Epoch 120/150\n",
            "32/32 [==============================] - 3s 86ms/step - loss: 1.3908 - val_loss: 1.3825\n",
            "Epoch 121/150\n",
            "32/32 [==============================] - 3s 88ms/step - loss: 1.3865 - val_loss: 1.3884\n",
            "Epoch 122/150\n",
            "32/32 [==============================] - 3s 86ms/step - loss: 1.3911 - val_loss: 1.3795\n",
            "Epoch 123/150\n",
            "32/32 [==============================] - 3s 88ms/step - loss: 1.4021 - val_loss: 1.3724\n",
            "Epoch 124/150\n",
            "32/32 [==============================] - 3s 86ms/step - loss: 1.3841 - val_loss: 1.3831\n",
            "Epoch 125/150\n",
            "32/32 [==============================] - 3s 85ms/step - loss: 1.3862 - val_loss: 1.3886\n",
            "Epoch 126/150\n",
            "32/32 [==============================] - 3s 87ms/step - loss: 1.3898 - val_loss: 1.3905\n",
            "Epoch 127/150\n",
            "32/32 [==============================] - 3s 85ms/step - loss: 1.3847 - val_loss: 1.3863\n",
            "Epoch 128/150\n",
            "32/32 [==============================] - 3s 88ms/step - loss: 1.3929 - val_loss: 1.3768\n",
            "Epoch 129/150\n",
            "32/32 [==============================] - 3s 88ms/step - loss: 1.3772 - val_loss: 1.3708\n",
            "Epoch 130/150\n",
            "32/32 [==============================] - 3s 86ms/step - loss: 1.3977 - val_loss: 1.3715\n",
            "Epoch 131/150\n",
            "32/32 [==============================] - 3s 86ms/step - loss: 1.3883 - val_loss: 1.3738\n",
            "Epoch 132/150\n",
            "32/32 [==============================] - 3s 86ms/step - loss: 1.3883 - val_loss: 1.3882\n",
            "Epoch 133/150\n",
            "32/32 [==============================] - 3s 86ms/step - loss: 1.3901 - val_loss: 1.3774\n",
            "Epoch 134/150\n",
            "32/32 [==============================] - 3s 87ms/step - loss: 1.3861 - val_loss: 1.4030\n",
            "Epoch 135/150\n",
            "32/32 [==============================] - 3s 87ms/step - loss: 1.3914 - val_loss: 1.3934\n",
            "Epoch 136/150\n",
            "32/32 [==============================] - 3s 86ms/step - loss: 1.3896 - val_loss: 1.3906\n",
            "Epoch 137/150\n",
            "32/32 [==============================] - 3s 87ms/step - loss: 1.3894 - val_loss: 1.3745\n",
            "Epoch 138/150\n",
            "32/32 [==============================] - 3s 85ms/step - loss: 1.3866 - val_loss: 1.3772\n",
            "Epoch 139/150\n",
            "32/32 [==============================] - 3s 86ms/step - loss: 1.3866 - val_loss: 1.3773\n",
            "Epoch 140/150\n",
            "32/32 [==============================] - 3s 87ms/step - loss: 1.3911 - val_loss: 1.3722\n",
            "Epoch 141/150\n",
            "32/32 [==============================] - 3s 90ms/step - loss: 1.3941 - val_loss: 1.3730\n",
            "Epoch 142/150\n",
            "32/32 [==============================] - 3s 89ms/step - loss: 1.3962 - val_loss: 1.3813\n",
            "Epoch 143/150\n",
            "32/32 [==============================] - 3s 85ms/step - loss: 1.3870 - val_loss: 1.3751\n",
            "Epoch 144/150\n",
            "32/32 [==============================] - 3s 86ms/step - loss: 1.3803 - val_loss: 1.3743\n",
            "Epoch 145/150\n",
            "32/32 [==============================] - 3s 89ms/step - loss: 1.3830 - val_loss: 1.3768\n",
            "Epoch 146/150\n",
            "32/32 [==============================] - 3s 87ms/step - loss: 1.3920 - val_loss: 1.3968\n",
            "Epoch 147/150\n",
            "32/32 [==============================] - 3s 87ms/step - loss: 1.3868 - val_loss: 1.3766\n",
            "Epoch 148/150\n",
            "32/32 [==============================] - 3s 87ms/step - loss: 1.3795 - val_loss: 1.3810\n",
            "Epoch 149/150\n",
            "32/32 [==============================] - 3s 88ms/step - loss: 1.3952 - val_loss: 1.3727\n",
            "Epoch 150/150\n",
            "32/32 [==============================] - 3s 87ms/step - loss: 1.3856 - val_loss: 1.3919\n"
          ],
          "name": "stdout"
        }
      ]
    },
    {
      "cell_type": "code",
      "metadata": {
        "colab": {
          "base_uri": "https://localhost:8080/",
          "height": 385
        },
        "id": "qfi9R0gTU4zP",
        "outputId": "7b716774-5c0e-460a-b068-de5bb134119e"
      },
      "source": [
        "# print(\"Evaluate\")\n",
        "# result = model.evaluate(test_datagenerator,4)\n",
        "# dict(zip(model.metrics_names, result))"
      ],
      "execution_count": null,
      "outputs": [
        {
          "output_type": "stream",
          "text": [
            "Evaluate\n"
          ],
          "name": "stdout"
        },
        {
          "output_type": "error",
          "ename": "ValueError",
          "evalue": "ignored",
          "traceback": [
            "\u001b[0;31m---------------------------------------------------------------------------\u001b[0m",
            "\u001b[0;31mValueError\u001b[0m                                Traceback (most recent call last)",
            "\u001b[0;32m<ipython-input-23-ce30eac9b243>\u001b[0m in \u001b[0;36m<module>\u001b[0;34m()\u001b[0m\n\u001b[1;32m      1\u001b[0m \u001b[0mprint\u001b[0m\u001b[0;34m(\u001b[0m\u001b[0;34m\"Evaluate\"\u001b[0m\u001b[0;34m)\u001b[0m\u001b[0;34m\u001b[0m\u001b[0;34m\u001b[0m\u001b[0m\n\u001b[0;32m----> 2\u001b[0;31m \u001b[0mresult\u001b[0m \u001b[0;34m=\u001b[0m \u001b[0mmodel\u001b[0m\u001b[0;34m.\u001b[0m\u001b[0mevaluate\u001b[0m\u001b[0;34m(\u001b[0m\u001b[0mtest_datagenerator\u001b[0m\u001b[0;34m,\u001b[0m\u001b[0;36m4\u001b[0m\u001b[0;34m)\u001b[0m\u001b[0;34m\u001b[0m\u001b[0;34m\u001b[0m\u001b[0m\n\u001b[0m\u001b[1;32m      3\u001b[0m \u001b[0mdict\u001b[0m\u001b[0;34m(\u001b[0m\u001b[0mzip\u001b[0m\u001b[0;34m(\u001b[0m\u001b[0mmodel\u001b[0m\u001b[0;34m.\u001b[0m\u001b[0mmetrics_names\u001b[0m\u001b[0;34m,\u001b[0m \u001b[0mresult\u001b[0m\u001b[0;34m)\u001b[0m\u001b[0;34m)\u001b[0m\u001b[0;34m\u001b[0m\u001b[0;34m\u001b[0m\u001b[0m\n",
            "\u001b[0;32m/usr/local/lib/python3.7/dist-packages/tensorflow/python/keras/engine/training.py\u001b[0m in \u001b[0;36mevaluate\u001b[0;34m(self, x, y, batch_size, verbose, sample_weight, steps, callbacks, max_queue_size, workers, use_multiprocessing, return_dict)\u001b[0m\n\u001b[1;32m   1364\u001b[0m             \u001b[0muse_multiprocessing\u001b[0m\u001b[0;34m=\u001b[0m\u001b[0muse_multiprocessing\u001b[0m\u001b[0;34m,\u001b[0m\u001b[0;34m\u001b[0m\u001b[0;34m\u001b[0m\u001b[0m\n\u001b[1;32m   1365\u001b[0m             \u001b[0mmodel\u001b[0m\u001b[0;34m=\u001b[0m\u001b[0mself\u001b[0m\u001b[0;34m,\u001b[0m\u001b[0;34m\u001b[0m\u001b[0;34m\u001b[0m\u001b[0m\n\u001b[0;32m-> 1366\u001b[0;31m             steps_per_execution=self._steps_per_execution)\n\u001b[0m\u001b[1;32m   1367\u001b[0m \u001b[0;34m\u001b[0m\u001b[0m\n\u001b[1;32m   1368\u001b[0m       \u001b[0;31m# Container that configures and calls `tf.keras.Callback`s.\u001b[0m\u001b[0;34m\u001b[0m\u001b[0;34m\u001b[0m\u001b[0;34m\u001b[0m\u001b[0m\n",
            "\u001b[0;32m/usr/local/lib/python3.7/dist-packages/tensorflow/python/keras/engine/data_adapter.py\u001b[0m in \u001b[0;36m__init__\u001b[0;34m(self, x, y, sample_weight, batch_size, steps_per_epoch, initial_epoch, epochs, shuffle, class_weight, max_queue_size, workers, use_multiprocessing, model, steps_per_execution)\u001b[0m\n\u001b[1;32m   1110\u001b[0m         \u001b[0muse_multiprocessing\u001b[0m\u001b[0;34m=\u001b[0m\u001b[0muse_multiprocessing\u001b[0m\u001b[0;34m,\u001b[0m\u001b[0;34m\u001b[0m\u001b[0;34m\u001b[0m\u001b[0m\n\u001b[1;32m   1111\u001b[0m         \u001b[0mdistribution_strategy\u001b[0m\u001b[0;34m=\u001b[0m\u001b[0mds_context\u001b[0m\u001b[0;34m.\u001b[0m\u001b[0mget_strategy\u001b[0m\u001b[0;34m(\u001b[0m\u001b[0;34m)\u001b[0m\u001b[0;34m,\u001b[0m\u001b[0;34m\u001b[0m\u001b[0;34m\u001b[0m\u001b[0m\n\u001b[0;32m-> 1112\u001b[0;31m         model=model)\n\u001b[0m\u001b[1;32m   1113\u001b[0m \u001b[0;34m\u001b[0m\u001b[0m\n\u001b[1;32m   1114\u001b[0m     \u001b[0mstrategy\u001b[0m \u001b[0;34m=\u001b[0m \u001b[0mds_context\u001b[0m\u001b[0;34m.\u001b[0m\u001b[0mget_strategy\u001b[0m\u001b[0;34m(\u001b[0m\u001b[0;34m)\u001b[0m\u001b[0;34m\u001b[0m\u001b[0;34m\u001b[0m\u001b[0m\n",
            "\u001b[0;32m/usr/local/lib/python3.7/dist-packages/tensorflow/python/keras/engine/data_adapter.py\u001b[0m in \u001b[0;36m__init__\u001b[0;34m(self, x, y, sample_weights, shuffle, workers, use_multiprocessing, max_queue_size, model, **kwargs)\u001b[0m\n\u001b[1;32m    890\u001b[0m                **kwargs):\n\u001b[1;32m    891\u001b[0m     \u001b[0;32mif\u001b[0m \u001b[0;32mnot\u001b[0m \u001b[0mis_none_or_empty\u001b[0m\u001b[0;34m(\u001b[0m\u001b[0my\u001b[0m\u001b[0;34m)\u001b[0m\u001b[0;34m:\u001b[0m\u001b[0;34m\u001b[0m\u001b[0;34m\u001b[0m\u001b[0m\n\u001b[0;32m--> 892\u001b[0;31m       raise ValueError(\"`y` argument is not supported when using \"\n\u001b[0m\u001b[1;32m    893\u001b[0m                        \"`keras.utils.Sequence` as input.\")\n\u001b[1;32m    894\u001b[0m     \u001b[0;32mif\u001b[0m \u001b[0;32mnot\u001b[0m \u001b[0mis_none_or_empty\u001b[0m\u001b[0;34m(\u001b[0m\u001b[0msample_weights\u001b[0m\u001b[0;34m)\u001b[0m\u001b[0;34m:\u001b[0m\u001b[0;34m\u001b[0m\u001b[0;34m\u001b[0m\u001b[0m\n",
            "\u001b[0;31mValueError\u001b[0m: `y` argument is not supported when using `keras.utils.Sequence` as input."
          ]
        }
      ]
    },
    {
      "cell_type": "code",
      "metadata": {
        "colab": {
          "base_uri": "https://localhost:8080/"
        },
        "id": "Bd2goqlMJWgg",
        "outputId": "5505bb77-5888-4eee-cddc-0de6a1d96afb"
      },
      "source": [
        "#Understand the filters in the model \n",
        "#Let us pick the first hidden layer as the layer of interest.\n",
        "layer = model.layers #Conv layers at 1, 3, 6, 8, 11, 13, 15\n",
        "filters, biases = model.layers[1].get_weights()\n",
        "print(layer[1].name, filters.shape)"
      ],
      "execution_count": null,
      "outputs": [
        {
          "output_type": "stream",
          "text": [
            "conv2d_26 (3, 3, 3, 64)\n"
          ],
          "name": "stdout"
        }
      ]
    },
    {
      "cell_type": "code",
      "metadata": {
        "colab": {
          "base_uri": "https://localhost:8080/",
          "height": 687
        },
        "id": "LECNpgLJXGn5",
        "outputId": "56d4074f-5417-4280-f3ce-ec1b7a890a15"
      },
      "source": [
        "fig1=plt.figure(figsize=(12, 12))\n",
        "columns = 8\n",
        "rows = 8\n",
        "n_filters = columns * rows\n",
        "for i in range(1, n_filters +1):\n",
        "    f = filters[:, :, :, i-1]\n",
        "    fig1 =plt.subplot(rows, columns, i)\n",
        "    fig1.set_xticks([])  #Turn off axis\n",
        "    fig1.set_yticks([])\n",
        "    plt.imshow(f[:, :, 0], cmap='jet') #Show only the filters from 0th channel (R)\n",
        "    #ix += 1\n",
        "plt.show() "
      ],
      "execution_count": null,
      "outputs": [
        {
          "output_type": "display_data",
          "data": {
            "image/png": "[encoded data removed]",
            "text/plain": [
              "<Figure size 864x864 with 64 Axes>"
            ]
          },
          "metadata": {
            "tags": []
          }
        }
      ]
    },
    {
      "cell_type": "code",
      "metadata": {
        "colab": {
          "base_uri": "https://localhost:8080/"
        },
        "id": "NZ_ardmvXNue",
        "outputId": "5236d288-ceb9-4480-ac42-7596515959ef"
      },
      "source": [
        "### Now plot filter outputs    \n",
        "\n",
        "#Define a new truncated model to only include the conv layers of interest\n",
        "conv_layer_index = [1, 3, 6, 8, 11, 13, 15]\n",
        "#conv_layer_index = [1, 3, 6]  #TO define a shorter model\n",
        "outputs = [model.layers[i].output for i in conv_layer_index]\n",
        "model_short = Model(inputs=model.inputs, outputs=outputs)\n",
        "print(model_short.summary())"
      ],
      "execution_count": null,
      "outputs": [
        {
          "output_type": "stream",
          "text": [
            "Model: \"model\"\n",
            "_________________________________________________________________\n",
            "Layer (type)                 Output Shape              Param #   \n",
            "=================================================================\n",
            "zero_padding2d_26_input (Inp [(None, 32, 32, 3)]       0         \n",
            "_________________________________________________________________\n",
            "zero_padding2d_26 (ZeroPaddi (None, 34, 34, 3)         0         \n",
            "_________________________________________________________________\n",
            "conv2d_26 (Conv2D)           (None, 11, 11, 64)        1792      \n",
            "_________________________________________________________________\n",
            "zero_padding2d_27 (ZeroPaddi (None, 13, 13, 64)        0         \n",
            "_________________________________________________________________\n",
            "conv2d_27 (Conv2D)           (None, 4, 4, 64)          36928     \n",
            "_________________________________________________________________\n",
            "max_pooling2d_10 (MaxPooling (None, 2, 2, 64)          0         \n",
            "_________________________________________________________________\n",
            "zero_padding2d_28 (ZeroPaddi (None, 4, 4, 64)          0         \n",
            "_________________________________________________________________\n",
            "conv2d_28 (Conv2D)           (None, 1, 1, 128)         73856     \n",
            "_________________________________________________________________\n",
            "zero_padding2d_29 (ZeroPaddi (None, 3, 3, 128)         0         \n",
            "_________________________________________________________________\n",
            "conv2d_29 (Conv2D)           (None, 1, 1, 128)         147584    \n",
            "_________________________________________________________________\n",
            "max_pooling2d_11 (MaxPooling (None, 1, 1, 128)         0         \n",
            "_________________________________________________________________\n",
            "zero_padding2d_30 (ZeroPaddi (None, 3, 3, 128)         0         \n",
            "_________________________________________________________________\n",
            "conv2d_30 (Conv2D)           (None, 1, 1, 256)         295168    \n",
            "_________________________________________________________________\n",
            "zero_padding2d_31 (ZeroPaddi (None, 3, 3, 256)         0         \n",
            "_________________________________________________________________\n",
            "conv2d_31 (Conv2D)           (None, 1, 1, 256)         590080    \n",
            "_________________________________________________________________\n",
            "zero_padding2d_32 (ZeroPaddi (None, 3, 3, 256)         0         \n",
            "_________________________________________________________________\n",
            "conv2d_32 (Conv2D)           (None, 1, 1, 256)         590080    \n",
            "=================================================================\n",
            "Total params: 1,735,488\n",
            "Trainable params: 1,735,488\n",
            "Non-trainable params: 0\n",
            "_________________________________________________________________\n",
            "None\n"
          ],
          "name": "stdout"
        }
      ]
    },
    {
      "cell_type": "code",
      "metadata": {
        "id": "HwYxP03fXSm9"
      },
      "source": [
        "#Input shape to the model is 224 x 224. SO resize input image to this shape.\n",
        "from keras.preprocessing.image import load_img, img_to_array\n",
        "img = load_img('/content/drive/MyDrive/Phd_Data_set_Implementation/Aug-Training-four/BL/HL_0_1013.jpeg', target_size=(32, 32)) #VGG user 224 as input\n",
        "\n",
        "# convert the image to an array\n",
        "img = img_to_array(img)\n",
        "# expand dimensions to match the shape of model input\n",
        "img = np.expand_dims(img, axis=0)\n",
        "\n",
        "# Generate feature output by predicting on the input image\n",
        "feature_output = model_short.predict(img)"
      ],
      "execution_count": null,
      "outputs": []
    },
    {
      "cell_type": "code",
      "metadata": {
        "colab": {
          "base_uri": "https://localhost:8080/",
          "height": 1000
        },
        "id": "ofR3-ZZnXW4l",
        "outputId": "8b560a4c-b48a-4f3d-ce5d-a4181d0e27c5"
      },
      "source": [
        "columns = 8\n",
        "rows = 8\n",
        "for ftr in feature_output:\n",
        "    #pos = 1\n",
        "    fig=plt.figure(figsize=(12, 12))\n",
        "    for i in range(1, columns*rows +1):\n",
        "        fig =plt.subplot(rows, columns, i)\n",
        "        fig.set_xticks([])  #Turn off axis\n",
        "        fig.set_yticks([])\n",
        "        plt.imshow(ftr[0, :, :, i-1], cmap='jet')\n",
        "        #pos += 1\n",
        "    plt.show()"
      ],
      "execution_count": null,
      "outputs": [
        {
          "output_type": "display_data",
          "data": {
            "image/png": "[encoded data removed]",
            "text/plain": [
              "<Figure size 864x864 with 64 Axes>"
            ]
          },
          "metadata": {
            "tags": []
          }
        },
        {
          "output_type": "display_data",
          "data": {
            "image/png": "[encoded data removed]",
            "text/plain": [
              "<Figure size 864x864 with 64 Axes>"
            ]
          },
          "metadata": {
            "tags": []
          }
        },
        {
          "output_type": "display_data",
          "data": {
            "image/png": "[encoded data removed]",
            "text/plain": [
              "<Figure size 864x864 with 64 Axes>"
            ]
          },
          "metadata": {
            "tags": []
          }
        },
        {
          "output_type": "display_data",
          "data": {
            "image/png": "[encoded data removed]",
            "text/plain": [
              "<Figure size 864x864 with 64 Axes>"
            ]
          },
          "metadata": {
            "tags": []
          }
        },
        {
          "output_type": "display_data",
          "data": {
            "image/png": "[encoded data removed]",
            "text/plain": [
              "<Figure size 864x864 with 64 Axes>"
            ]
          },
          "metadata": {
            "tags": []
          }
        },
        {
          "output_type": "display_data",
          "data": {
            "image/png": "[encoded data removed]",
            "text/plain": [
              "<Figure size 864x864 with 64 Axes>"
            ]
          },
          "metadata": {
            "tags": []
          }
        },
        {
          "output_type": "display_data",
          "data": {
            "image/png": "[encoded data removed]",
            "text/plain": [
              "<Figure size 864x864 with 64 Axes>"
            ]
          },
          "metadata": {
            "tags": []
          }
        }
      ]
    }
  ]
}