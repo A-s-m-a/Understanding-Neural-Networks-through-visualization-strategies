{
  "nbformat": 4,
  "nbformat_minor": 0,
  "metadata": {
    "colab": {
      "name": "ablationcam.ipynb",
      "provenance": [],
      "collapsed_sections": []
    },
    "kernelspec": {
      "name": "python3",
      "display_name": "Python 3"
    },
    "accelerator": "GPU"
  },
  "cells": [
    {
      "cell_type": "code",
      "metadata": {
        "id": "8feqKsIEWmOQ"
      },
      "source": [
        "import numpy\n",
        "from numpy.random import seed\n",
        "seed(0)\n",
        "import numpy as np\n",
        "import tensorflow as tf\n",
        "from tensorflow import keras\n",
        "from IPython.display import Image\n",
        "import matplotlib.pyplot as plt\n",
        "import matplotlib.cm as cm\n",
        "import glob\n",
        "import matplotlib\n",
        "from matplotlib import pyplot as plt\n",
        "import matplotlib.image as mpimg\n",
        "import numpy as np\n",
        "import imageio as im\n",
        "from keras import models\n",
        "from keras.models import Sequential\n",
        "from keras.layers import Conv2D\n",
        "from keras.layers import MaxPool2D,BatchNormalization\n",
        "from keras.layers import Flatten\n",
        "from keras.layers import Dense\n",
        "from keras.layers import Dropout\n",
        "from keras.preprocessing import image\n",
        "from keras.preprocessing.image import ImageDataGenerator\n",
        "from keras.callbacks import ModelCheckpoint\n",
        "import pandas as pd\n",
        "import keras.backend as K\n",
        "import cv2"
      ],
      "execution_count": null,
      "outputs": []
    },
    {
      "cell_type": "code",
      "metadata": {
        "colab": {
          "base_uri": "https://localhost:8080/"
        },
        "id": "_0i40frmW1aS",
        "outputId": "7df6faf7-ec55-463b-f189-ba707ff251b0"
      },
      "source": [
        "# Load the dataset\n",
        "data_path = '/content/drive/MyDrive/Phd_Data_set_Implementation/Aug-Training-four'\n",
        "\n",
        "train_datagen = ImageDataGenerator(rescale=1./255)\n",
        "train_datagenerator = train_datagen.flow_from_directory(\n",
        "    data_path,\n",
        "    target_size=(32, 32),\n",
        "    class_mode='categorical',\n",
        "    batch_size=32\n",
        ")"
      ],
      "execution_count": null,
      "outputs": [
        {
          "output_type": "stream",
          "text": [
            "Found 9645 images belonging to 4 classes.\n"
          ],
          "name": "stdout"
        }
      ]
    },
    {
      "cell_type": "code",
      "metadata": {
        "id": "l754fIOHW427"
      },
      "source": [
        "model = Sequential()\n",
        "model.add(Conv2D(128, kernel_size=(3, 3),activation='relu',kernel_initializer='he_normal',input_shape=(32,32,3)))\n",
        "model.add(Conv2D(128, kernel_size=(3, 3),activation='relu',kernel_initializer='he_normal'))\n",
        "model.add(MaxPool2D((2, 2)))\n",
        "model.add(Dropout(0.20))\n",
        "model.add(Conv2D(64, (3, 3), activation='relu',padding='same',kernel_initializer='he_normal'))\n",
        "model.add(Conv2D(64, (3, 3), activation='relu',padding='same',kernel_initializer='he_normal'))\n",
        "model.add(MaxPool2D(pool_size=(2, 2)))\n",
        "model.add(Dropout(0.25))\n",
        "model.add(Conv2D(32, (3, 3), activation='relu',padding='same',kernel_initializer='he_normal'))\n",
        "model.add(Dropout(0.25))\n",
        "model.add(Flatten())\n",
        "model.add(Dense(128, activation='relu'))\n",
        "model.add(BatchNormalization())\n",
        "model.add(Dropout(0.25))\n",
        "model.add(Dense(4, activation='softmax'))"
      ],
      "execution_count": null,
      "outputs": []
    },
    {
      "cell_type": "code",
      "metadata": {
        "colab": {
          "base_uri": "https://localhost:8080/"
        },
        "id": "FHjz91SrXMNa",
        "outputId": "d659f132-4c0f-44cc-bd71-e003bb1cd3cf"
      },
      "source": [
        "model.summary()"
      ],
      "execution_count": null,
      "outputs": [
        {
          "output_type": "stream",
          "text": [
            "Model: \"sequential\"\n",
            "_________________________________________________________________\n",
            "Layer (type)                 Output Shape              Param #   \n",
            "=================================================================\n",
            "conv2d (Conv2D)              (None, 30, 30, 128)       3584      \n",
            "_________________________________________________________________\n",
            "conv2d_1 (Conv2D)            (None, 28, 28, 128)       147584    \n",
            "_________________________________________________________________\n",
            "max_pooling2d (MaxPooling2D) (None, 14, 14, 128)       0         \n",
            "_________________________________________________________________\n",
            "dropout (Dropout)            (None, 14, 14, 128)       0         \n",
            "_________________________________________________________________\n",
            "conv2d_2 (Conv2D)            (None, 14, 14, 64)        73792     \n",
            "_________________________________________________________________\n",
            "conv2d_3 (Conv2D)            (None, 14, 14, 64)        36928     \n",
            "_________________________________________________________________\n",
            "max_pooling2d_1 (MaxPooling2 (None, 7, 7, 64)          0         \n",
            "_________________________________________________________________\n",
            "dropout_1 (Dropout)          (None, 7, 7, 64)          0         \n",
            "_________________________________________________________________\n",
            "conv2d_4 (Conv2D)            (None, 7, 7, 32)          18464     \n",
            "_________________________________________________________________\n",
            "dropout_2 (Dropout)          (None, 7, 7, 32)          0         \n",
            "_________________________________________________________________\n",
            "flatten (Flatten)            (None, 1568)              0         \n",
            "_________________________________________________________________\n",
            "dense (Dense)                (None, 128)               200832    \n",
            "_________________________________________________________________\n",
            "batch_normalization (BatchNo (None, 128)               512       \n",
            "_________________________________________________________________\n",
            "dropout_3 (Dropout)          (None, 128)               0         \n",
            "_________________________________________________________________\n",
            "dense_1 (Dense)              (None, 4)                 516       \n",
            "=================================================================\n",
            "Total params: 482,212\n",
            "Trainable params: 481,956\n",
            "Non-trainable params: 256\n",
            "_________________________________________________________________\n"
          ],
          "name": "stdout"
        }
      ]
    },
    {
      "cell_type": "code",
      "metadata": {
        "id": "Dp_jJl2VXO6B"
      },
      "source": [
        "model.compile(optimizer='adam',loss='categorical_crossentropy',metrics=['accuracy'])"
      ],
      "execution_count": null,
      "outputs": []
    },
    {
      "cell_type": "code",
      "metadata": {
        "colab": {
          "base_uri": "https://localhost:8080/"
        },
        "id": "FmDyHM2RXSLR",
        "outputId": "849c98a8-9a24-4c2b-b020-976a6060df58"
      },
      "source": [
        "test_data_path = '/content/drive/MyDrive/Phd_Data_set_Implementation/TESTING-FOUR-CLASSES-by-dec20'\n",
        "\n",
        "test_datagen = ImageDataGenerator(rescale=1./255)\n",
        "test_datagenerator = test_datagen.flow_from_directory(\n",
        "    test_data_path,\n",
        "    target_size=(32, 32),\n",
        "    class_mode='categorical',\n",
        "    batch_size=32\n",
        ")"
      ],
      "execution_count": null,
      "outputs": [
        {
          "output_type": "stream",
          "text": [
            "Found 45 images belonging to 4 classes.\n"
          ],
          "name": "stdout"
        }
      ]
    },
    {
      "cell_type": "code",
      "metadata": {
        "id": "H3dVLDm8XU3d"
      },
      "source": [
        "class MyCallback(tf.keras.callbacks.Callback):\n",
        "    def on_epoch_end(self, epoch, logs={}):\n",
        "        # print('Accuracy:', logs.get('accuracy', 0))\n",
        "        if logs.get('accuracy') >= 0.95:\n",
        "            # print('inside if')\n",
        "            self.model.stop_training = True\n",
        "\n",
        "callback = MyCallback()"
      ],
      "execution_count": null,
      "outputs": []
    },
    {
      "cell_type": "code",
      "metadata": {
        "colab": {
          "base_uri": "https://localhost:8080/"
        },
        "id": "LYypYKrDXXHs",
        "outputId": "aec31590-be6d-4d04-b763-c5f7faf21cdd"
      },
      "source": [
        "model.fit(train_datagenerator,epochs=150,validation_data=test_datagenerator,steps_per_epoch=16, callbacks=[callback])"
      ],
      "execution_count": null,
      "outputs": [
        {
          "output_type": "stream",
          "text": [
            "Epoch 1/150\n",
            "16/16 [==============================] - 413s 24s/step - loss: 1.9457 - accuracy: 0.2761 - val_loss: 5.5053 - val_accuracy: 0.2222\n",
            "Epoch 2/150\n",
            "16/16 [==============================] - 354s 22s/step - loss: 1.8316 - accuracy: 0.2712 - val_loss: 3.9325 - val_accuracy: 0.2667\n",
            "Epoch 3/150\n",
            "16/16 [==============================] - 328s 21s/step - loss: 1.9263 - accuracy: 0.2809 - val_loss: 3.6436 - val_accuracy: 0.1556\n",
            "Epoch 4/150\n",
            "16/16 [==============================] - 310s 19s/step - loss: 1.7756 - accuracy: 0.2606 - val_loss: 4.0445 - val_accuracy: 0.2222\n",
            "Epoch 5/150\n",
            "16/16 [==============================] - 293s 18s/step - loss: 1.5438 - accuracy: 0.3401 - val_loss: 2.9776 - val_accuracy: 0.3333\n",
            "Epoch 6/150\n",
            "16/16 [==============================] - 265s 17s/step - loss: 1.4957 - accuracy: 0.3518 - val_loss: 2.5734 - val_accuracy: 0.3333\n",
            "Epoch 7/150\n",
            "16/16 [==============================] - 254s 16s/step - loss: 1.6024 - accuracy: 0.2871 - val_loss: 2.0939 - val_accuracy: 0.3333\n",
            "Epoch 8/150\n",
            "16/16 [==============================] - 254s 16s/step - loss: 1.6456 - accuracy: 0.2586 - val_loss: 2.7814 - val_accuracy: 0.2889\n",
            "Epoch 9/150\n",
            "16/16 [==============================] - 233s 15s/step - loss: 1.5232 - accuracy: 0.2865 - val_loss: 2.1317 - val_accuracy: 0.3556\n",
            "Epoch 10/150\n",
            "16/16 [==============================] - 217s 13s/step - loss: 1.5127 - accuracy: 0.3052 - val_loss: 2.5019 - val_accuracy: 0.3556\n",
            "Epoch 11/150\n",
            "16/16 [==============================] - 217s 14s/step - loss: 1.4513 - accuracy: 0.3489 - val_loss: 2.7419 - val_accuracy: 0.2222\n",
            "Epoch 12/150\n",
            "16/16 [==============================] - 206s 13s/step - loss: 1.4553 - accuracy: 0.2890 - val_loss: 1.8307 - val_accuracy: 0.2444\n",
            "Epoch 13/150\n",
            "16/16 [==============================] - 187s 12s/step - loss: 1.3515 - accuracy: 0.3881 - val_loss: 1.6994 - val_accuracy: 0.3111\n",
            "Epoch 14/150\n",
            "16/16 [==============================] - 169s 11s/step - loss: 1.3865 - accuracy: 0.3469 - val_loss: 1.9071 - val_accuracy: 0.2222\n",
            "Epoch 15/150\n",
            "16/16 [==============================] - 159s 10s/step - loss: 1.3594 - accuracy: 0.3822 - val_loss: 1.6102 - val_accuracy: 0.1556\n",
            "Epoch 16/150\n",
            "16/16 [==============================] - 160s 10s/step - loss: 1.4583 - accuracy: 0.3259 - val_loss: 1.5904 - val_accuracy: 0.2000\n",
            "Epoch 17/150\n",
            "16/16 [==============================] - 141s 9s/step - loss: 1.3680 - accuracy: 0.3771 - val_loss: 2.5103 - val_accuracy: 0.2222\n",
            "Epoch 18/150\n",
            "16/16 [==============================] - 141s 9s/step - loss: 1.3493 - accuracy: 0.3796 - val_loss: 1.9661 - val_accuracy: 0.1778\n",
            "Epoch 19/150\n",
            "16/16 [==============================] - 128s 8s/step - loss: 1.2772 - accuracy: 0.3681 - val_loss: 1.7309 - val_accuracy: 0.2222\n",
            "Epoch 20/150\n",
            "16/16 [==============================] - 124s 8s/step - loss: 1.3006 - accuracy: 0.3462 - val_loss: 2.0379 - val_accuracy: 0.2222\n",
            "Epoch 21/150\n",
            "16/16 [==============================] - 104s 7s/step - loss: 1.2291 - accuracy: 0.4299 - val_loss: 2.0149 - val_accuracy: 0.2444\n",
            "Epoch 22/150\n",
            "16/16 [==============================] - 107s 7s/step - loss: 1.2222 - accuracy: 0.4211 - val_loss: 1.9639 - val_accuracy: 0.1778\n",
            "Epoch 23/150\n",
            "16/16 [==============================] - 108s 7s/step - loss: 1.1805 - accuracy: 0.4527 - val_loss: 2.0773 - val_accuracy: 0.2667\n",
            "Epoch 24/150\n",
            "16/16 [==============================] - 90s 6s/step - loss: 1.1628 - accuracy: 0.4846 - val_loss: 2.3071 - val_accuracy: 0.2222\n",
            "Epoch 25/150\n",
            "16/16 [==============================] - 93s 6s/step - loss: 1.1712 - accuracy: 0.4552 - val_loss: 2.0604 - val_accuracy: 0.2222\n",
            "Epoch 26/150\n",
            "16/16 [==============================] - 103s 7s/step - loss: 1.1069 - accuracy: 0.4805 - val_loss: 2.1603 - val_accuracy: 0.2000\n",
            "Epoch 27/150\n",
            "16/16 [==============================] - 93s 6s/step - loss: 1.1420 - accuracy: 0.4716 - val_loss: 2.1343 - val_accuracy: 0.2444\n",
            "Epoch 28/150\n",
            "16/16 [==============================] - 82s 5s/step - loss: 1.1777 - accuracy: 0.4831 - val_loss: 1.4751 - val_accuracy: 0.3556\n",
            "Epoch 29/150\n",
            "16/16 [==============================] - 67s 4s/step - loss: 1.1505 - accuracy: 0.4626 - val_loss: 2.1883 - val_accuracy: 0.3333\n",
            "Epoch 30/150\n",
            "16/16 [==============================] - 65s 4s/step - loss: 1.1067 - accuracy: 0.5288 - val_loss: 1.3893 - val_accuracy: 0.3111\n",
            "Epoch 31/150\n",
            "16/16 [==============================] - 77s 5s/step - loss: 1.0777 - accuracy: 0.4962 - val_loss: 1.2976 - val_accuracy: 0.4000\n",
            "Epoch 32/150\n",
            "16/16 [==============================] - 65s 4s/step - loss: 1.0865 - accuracy: 0.5278 - val_loss: 1.8752 - val_accuracy: 0.2889\n",
            "Epoch 33/150\n",
            "16/16 [==============================] - 64s 4s/step - loss: 1.0691 - accuracy: 0.5407 - val_loss: 1.4127 - val_accuracy: 0.4000\n",
            "Epoch 34/150\n",
            "16/16 [==============================] - 51s 3s/step - loss: 1.0941 - accuracy: 0.5189 - val_loss: 1.2549 - val_accuracy: 0.3778\n",
            "Epoch 35/150\n",
            "16/16 [==============================] - 52s 3s/step - loss: 1.0747 - accuracy: 0.4885 - val_loss: 1.2756 - val_accuracy: 0.4222\n",
            "Epoch 36/150\n",
            "16/16 [==============================] - 45s 3s/step - loss: 0.9929 - accuracy: 0.5380 - val_loss: 1.6198 - val_accuracy: 0.3111\n",
            "Epoch 37/150\n",
            "16/16 [==============================] - 44s 3s/step - loss: 1.0126 - accuracy: 0.5578 - val_loss: 2.5712 - val_accuracy: 0.2889\n",
            "Epoch 38/150\n",
            "16/16 [==============================] - 44s 3s/step - loss: 1.0854 - accuracy: 0.4820 - val_loss: 3.3112 - val_accuracy: 0.3111\n",
            "Epoch 39/150\n",
            "16/16 [==============================] - 43s 3s/step - loss: 1.1795 - accuracy: 0.4750 - val_loss: 3.5393 - val_accuracy: 0.3111\n",
            "Epoch 40/150\n",
            "16/16 [==============================] - 46s 3s/step - loss: 1.0815 - accuracy: 0.5274 - val_loss: 1.7222 - val_accuracy: 0.2889\n",
            "Epoch 41/150\n",
            "16/16 [==============================] - 35s 2s/step - loss: 1.0527 - accuracy: 0.5150 - val_loss: 1.1577 - val_accuracy: 0.5333\n",
            "Epoch 42/150\n",
            "16/16 [==============================] - 30s 2s/step - loss: 1.0638 - accuracy: 0.5466 - val_loss: 2.0126 - val_accuracy: 0.2889\n",
            "Epoch 43/150\n",
            "16/16 [==============================] - 39s 2s/step - loss: 1.1093 - accuracy: 0.5001 - val_loss: 2.4238 - val_accuracy: 0.3333\n",
            "Epoch 44/150\n",
            "16/16 [==============================] - 30s 2s/step - loss: 1.0240 - accuracy: 0.5534 - val_loss: 2.0554 - val_accuracy: 0.3556\n",
            "Epoch 45/150\n",
            "16/16 [==============================] - 30s 2s/step - loss: 0.9879 - accuracy: 0.5668 - val_loss: 1.6238 - val_accuracy: 0.4444\n",
            "Epoch 46/150\n",
            "16/16 [==============================] - 24s 2s/step - loss: 0.9685 - accuracy: 0.5770 - val_loss: 1.2358 - val_accuracy: 0.4889\n",
            "Epoch 47/150\n",
            "16/16 [==============================] - 30s 2s/step - loss: 0.9966 - accuracy: 0.5590 - val_loss: 1.2661 - val_accuracy: 0.4889\n",
            "Epoch 48/150\n",
            "16/16 [==============================] - 28s 2s/step - loss: 0.9098 - accuracy: 0.5738 - val_loss: 1.4119 - val_accuracy: 0.4444\n",
            "Epoch 49/150\n",
            "16/16 [==============================] - 26s 2s/step - loss: 0.9055 - accuracy: 0.5947 - val_loss: 1.9533 - val_accuracy: 0.2667\n",
            "Epoch 50/150\n",
            "16/16 [==============================] - 22s 1s/step - loss: 1.0296 - accuracy: 0.5184 - val_loss: 2.4266 - val_accuracy: 0.2222\n",
            "Epoch 51/150\n",
            "16/16 [==============================] - 32s 2s/step - loss: 1.0164 - accuracy: 0.5443 - val_loss: 1.5614 - val_accuracy: 0.3333\n",
            "Epoch 52/150\n",
            "16/16 [==============================] - 25s 1s/step - loss: 0.9704 - accuracy: 0.5308 - val_loss: 1.3763 - val_accuracy: 0.4222\n",
            "Epoch 53/150\n",
            "16/16 [==============================] - 19s 1s/step - loss: 0.9472 - accuracy: 0.5568 - val_loss: 1.9215 - val_accuracy: 0.3778\n",
            "Epoch 54/150\n",
            "16/16 [==============================] - 22s 1s/step - loss: 0.9178 - accuracy: 0.6036 - val_loss: 1.5366 - val_accuracy: 0.3778\n",
            "Epoch 55/150\n",
            "16/16 [==============================] - 13s 860ms/step - loss: 1.0122 - accuracy: 0.5493 - val_loss: 1.1051 - val_accuracy: 0.5111\n",
            "Epoch 56/150\n",
            "16/16 [==============================] - 16s 1s/step - loss: 0.8399 - accuracy: 0.5936 - val_loss: 1.6095 - val_accuracy: 0.3778\n",
            "Epoch 57/150\n",
            "16/16 [==============================] - 20s 1s/step - loss: 0.9510 - accuracy: 0.5380 - val_loss: 1.2722 - val_accuracy: 0.4222\n",
            "Epoch 58/150\n",
            "16/16 [==============================] - 13s 796ms/step - loss: 0.8583 - accuracy: 0.5932 - val_loss: 2.7191 - val_accuracy: 0.2444\n",
            "Epoch 59/150\n",
            "16/16 [==============================] - 10s 655ms/step - loss: 0.7882 - accuracy: 0.6567 - val_loss: 1.7570 - val_accuracy: 0.3333\n",
            "Epoch 60/150\n",
            "16/16 [==============================] - 13s 833ms/step - loss: 0.9655 - accuracy: 0.6081 - val_loss: 2.0986 - val_accuracy: 0.2889\n",
            "Epoch 61/150\n",
            "16/16 [==============================] - 16s 1s/step - loss: 0.8307 - accuracy: 0.6461 - val_loss: 1.2134 - val_accuracy: 0.4444\n",
            "Epoch 62/150\n",
            "16/16 [==============================] - 14s 880ms/step - loss: 0.8272 - accuracy: 0.6229 - val_loss: 1.4065 - val_accuracy: 0.4667\n",
            "Epoch 63/150\n",
            "16/16 [==============================] - 16s 903ms/step - loss: 0.8440 - accuracy: 0.6270 - val_loss: 1.7659 - val_accuracy: 0.2667\n",
            "Epoch 64/150\n",
            "16/16 [==============================] - 7s 409ms/step - loss: 0.8450 - accuracy: 0.6259 - val_loss: 1.4422 - val_accuracy: 0.4000\n",
            "Epoch 65/150\n",
            "16/16 [==============================] - 16s 1s/step - loss: 0.8123 - accuracy: 0.6517 - val_loss: 1.3857 - val_accuracy: 0.4222\n",
            "Epoch 66/150\n",
            "16/16 [==============================] - 12s 802ms/step - loss: 0.8262 - accuracy: 0.6434 - val_loss: 1.2154 - val_accuracy: 0.5111\n",
            "Epoch 67/150\n",
            "16/16 [==============================] - 9s 516ms/step - loss: 0.8172 - accuracy: 0.6313 - val_loss: 1.2703 - val_accuracy: 0.4444\n",
            "Epoch 68/150\n",
            "16/16 [==============================] - 9s 516ms/step - loss: 0.7860 - accuracy: 0.6525 - val_loss: 1.9222 - val_accuracy: 0.4000\n",
            "Epoch 69/150\n",
            "16/16 [==============================] - 8s 533ms/step - loss: 0.8533 - accuracy: 0.6078 - val_loss: 1.5517 - val_accuracy: 0.3556\n",
            "Epoch 70/150\n",
            "16/16 [==============================] - 10s 621ms/step - loss: 0.7758 - accuracy: 0.6740 - val_loss: 1.7288 - val_accuracy: 0.3556\n",
            "Epoch 71/150\n",
            "16/16 [==============================] - 6s 404ms/step - loss: 0.7895 - accuracy: 0.6563 - val_loss: 1.2946 - val_accuracy: 0.5111\n",
            "Epoch 72/150\n",
            "16/16 [==============================] - 9s 562ms/step - loss: 0.7233 - accuracy: 0.6976 - val_loss: 1.7640 - val_accuracy: 0.2889\n",
            "Epoch 73/150\n",
            "16/16 [==============================] - 8s 490ms/step - loss: 0.7782 - accuracy: 0.6551 - val_loss: 1.3471 - val_accuracy: 0.5111\n",
            "Epoch 74/150\n",
            "16/16 [==============================] - 6s 409ms/step - loss: 0.8278 - accuracy: 0.6364 - val_loss: 1.5038 - val_accuracy: 0.4000\n",
            "Epoch 75/150\n",
            "16/16 [==============================] - 8s 537ms/step - loss: 0.7655 - accuracy: 0.6425 - val_loss: 1.9409 - val_accuracy: 0.4222\n",
            "Epoch 76/150\n",
            "16/16 [==============================] - 10s 647ms/step - loss: 0.7316 - accuracy: 0.6826 - val_loss: 1.5653 - val_accuracy: 0.4667\n",
            "Epoch 77/150\n",
            "16/16 [==============================] - 10s 575ms/step - loss: 0.7340 - accuracy: 0.6920 - val_loss: 2.1233 - val_accuracy: 0.2667\n",
            "Epoch 78/150\n",
            "16/16 [==============================] - 8s 543ms/step - loss: 0.7616 - accuracy: 0.6885 - val_loss: 1.7257 - val_accuracy: 0.3778\n",
            "Epoch 79/150\n",
            "16/16 [==============================] - 10s 564ms/step - loss: 0.7948 - accuracy: 0.6834 - val_loss: 1.4307 - val_accuracy: 0.3333\n",
            "Epoch 80/150\n",
            "16/16 [==============================] - 5s 326ms/step - loss: 0.7303 - accuracy: 0.6867 - val_loss: 1.6232 - val_accuracy: 0.4222\n",
            "Epoch 81/150\n",
            "16/16 [==============================] - 6s 379ms/step - loss: 0.7501 - accuracy: 0.6918 - val_loss: 1.6548 - val_accuracy: 0.3333\n",
            "Epoch 82/150\n",
            "16/16 [==============================] - 3s 220ms/step - loss: 0.7698 - accuracy: 0.6555 - val_loss: 2.0126 - val_accuracy: 0.3778\n",
            "Epoch 83/150\n",
            "16/16 [==============================] - 8s 411ms/step - loss: 0.8139 - accuracy: 0.6340 - val_loss: 1.6535 - val_accuracy: 0.5333\n",
            "Epoch 84/150\n",
            "16/16 [==============================] - 4s 284ms/step - loss: 0.7177 - accuracy: 0.6645 - val_loss: 1.5255 - val_accuracy: 0.5111\n",
            "Epoch 85/150\n",
            "16/16 [==============================] - 7s 489ms/step - loss: 0.7252 - accuracy: 0.6986 - val_loss: 2.0915 - val_accuracy: 0.4444\n",
            "Epoch 86/150\n",
            "16/16 [==============================] - 4s 281ms/step - loss: 0.6624 - accuracy: 0.7091 - val_loss: 1.2699 - val_accuracy: 0.4444\n",
            "Epoch 87/150\n",
            "16/16 [==============================] - 10s 650ms/step - loss: 0.7251 - accuracy: 0.6552 - val_loss: 1.4218 - val_accuracy: 0.4889\n",
            "Epoch 88/150\n",
            "16/16 [==============================] - 3s 172ms/step - loss: 0.6888 - accuracy: 0.6977 - val_loss: 1.4758 - val_accuracy: 0.4000\n",
            "Epoch 89/150\n",
            "16/16 [==============================] - 5s 324ms/step - loss: 0.7433 - accuracy: 0.6787 - val_loss: 1.3375 - val_accuracy: 0.3556\n",
            "Epoch 90/150\n",
            "16/16 [==============================] - 3s 221ms/step - loss: 0.6903 - accuracy: 0.7161 - val_loss: 1.3343 - val_accuracy: 0.4667\n",
            "Epoch 91/150\n",
            "16/16 [==============================] - 5s 316ms/step - loss: 0.6640 - accuracy: 0.7233 - val_loss: 1.1997 - val_accuracy: 0.4889\n",
            "Epoch 92/150\n",
            "16/16 [==============================] - 3s 220ms/step - loss: 0.7558 - accuracy: 0.6294 - val_loss: 1.5004 - val_accuracy: 0.3556\n",
            "Epoch 93/150\n",
            "16/16 [==============================] - 5s 295ms/step - loss: 0.7341 - accuracy: 0.6874 - val_loss: 1.3628 - val_accuracy: 0.4222\n",
            "Epoch 94/150\n",
            "16/16 [==============================] - 5s 281ms/step - loss: 0.5977 - accuracy: 0.7425 - val_loss: 2.6783 - val_accuracy: 0.3778\n",
            "Epoch 95/150\n",
            "16/16 [==============================] - 4s 178ms/step - loss: 0.6555 - accuracy: 0.7320 - val_loss: 1.8733 - val_accuracy: 0.4667\n",
            "Epoch 96/150\n",
            "16/16 [==============================] - 3s 192ms/step - loss: 0.7009 - accuracy: 0.6901 - val_loss: 1.3946 - val_accuracy: 0.5333\n",
            "Epoch 97/150\n",
            "16/16 [==============================] - 4s 228ms/step - loss: 0.6478 - accuracy: 0.7274 - val_loss: 1.6013 - val_accuracy: 0.3556\n",
            "Epoch 98/150\n",
            "16/16 [==============================] - 3s 181ms/step - loss: 0.7220 - accuracy: 0.7216 - val_loss: 1.8536 - val_accuracy: 0.4444\n",
            "Epoch 99/150\n",
            "16/16 [==============================] - 4s 231ms/step - loss: 0.5593 - accuracy: 0.7808 - val_loss: 1.6656 - val_accuracy: 0.4889\n",
            "Epoch 100/150\n",
            "16/16 [==============================] - 2s 127ms/step - loss: 0.5317 - accuracy: 0.7689 - val_loss: 1.6414 - val_accuracy: 0.5333\n",
            "Epoch 101/150\n",
            "16/16 [==============================] - 3s 176ms/step - loss: 0.6861 - accuracy: 0.7236 - val_loss: 1.4472 - val_accuracy: 0.4000\n",
            "Epoch 102/150\n",
            "16/16 [==============================] - 3s 210ms/step - loss: 0.5610 - accuracy: 0.7646 - val_loss: 1.5014 - val_accuracy: 0.4889\n",
            "Epoch 103/150\n",
            "16/16 [==============================] - 3s 170ms/step - loss: 0.6284 - accuracy: 0.7620 - val_loss: 1.5000 - val_accuracy: 0.4889\n",
            "Epoch 104/150\n",
            "16/16 [==============================] - 3s 218ms/step - loss: 0.5449 - accuracy: 0.7748 - val_loss: 1.6573 - val_accuracy: 0.3556\n",
            "Epoch 105/150\n",
            "16/16 [==============================] - 3s 221ms/step - loss: 0.5714 - accuracy: 0.7544 - val_loss: 2.2290 - val_accuracy: 0.3111\n",
            "Epoch 106/150\n",
            "16/16 [==============================] - 3s 171ms/step - loss: 0.5577 - accuracy: 0.7536 - val_loss: 1.7561 - val_accuracy: 0.3333\n",
            "Epoch 107/150\n",
            "16/16 [==============================] - 3s 176ms/step - loss: 0.5452 - accuracy: 0.7442 - val_loss: 1.4738 - val_accuracy: 0.4667\n",
            "Epoch 108/150\n",
            "16/16 [==============================] - 2s 126ms/step - loss: 0.4674 - accuracy: 0.8012 - val_loss: 1.9421 - val_accuracy: 0.2889\n",
            "Epoch 109/150\n",
            "16/16 [==============================] - 2s 127ms/step - loss: 0.4897 - accuracy: 0.7979 - val_loss: 1.3352 - val_accuracy: 0.6000\n",
            "Epoch 110/150\n",
            "16/16 [==============================] - 3s 173ms/step - loss: 0.5816 - accuracy: 0.7585 - val_loss: 1.9354 - val_accuracy: 0.3778\n",
            "Epoch 111/150\n",
            "16/16 [==============================] - 3s 223ms/step - loss: 0.5885 - accuracy: 0.7459 - val_loss: 1.5990 - val_accuracy: 0.4222\n",
            "Epoch 112/150\n",
            "16/16 [==============================] - 4s 266ms/step - loss: 0.4941 - accuracy: 0.8021 - val_loss: 1.6476 - val_accuracy: 0.3778\n",
            "Epoch 113/150\n",
            "16/16 [==============================] - 4s 259ms/step - loss: 0.5236 - accuracy: 0.7768 - val_loss: 1.9538 - val_accuracy: 0.4444\n",
            "Epoch 114/150\n",
            "16/16 [==============================] - 3s 220ms/step - loss: 0.4859 - accuracy: 0.8166 - val_loss: 1.6838 - val_accuracy: 0.4222\n",
            "Epoch 115/150\n",
            "16/16 [==============================] - 3s 168ms/step - loss: 0.4261 - accuracy: 0.8389 - val_loss: 1.9857 - val_accuracy: 0.3556\n",
            "Epoch 116/150\n",
            "16/16 [==============================] - 3s 185ms/step - loss: 0.6029 - accuracy: 0.7458 - val_loss: 1.8898 - val_accuracy: 0.4444\n",
            "Epoch 117/150\n",
            "16/16 [==============================] - 2s 129ms/step - loss: 0.5272 - accuracy: 0.7908 - val_loss: 1.5938 - val_accuracy: 0.4000\n",
            "Epoch 118/150\n",
            "16/16 [==============================] - 2s 124ms/step - loss: 0.4790 - accuracy: 0.7987 - val_loss: 1.6940 - val_accuracy: 0.4444\n",
            "Epoch 119/150\n",
            "16/16 [==============================] - 2s 127ms/step - loss: 0.4759 - accuracy: 0.8273 - val_loss: 1.6454 - val_accuracy: 0.4889\n",
            "Epoch 120/150\n",
            "16/16 [==============================] - 2s 129ms/step - loss: 0.4163 - accuracy: 0.8438 - val_loss: 1.7180 - val_accuracy: 0.4889\n",
            "Epoch 121/150\n",
            "16/16 [==============================] - 2s 126ms/step - loss: 0.4579 - accuracy: 0.8166 - val_loss: 1.8689 - val_accuracy: 0.3778\n",
            "Epoch 122/150\n",
            "16/16 [==============================] - 2s 124ms/step - loss: 0.4007 - accuracy: 0.8475 - val_loss: 1.7492 - val_accuracy: 0.4222\n",
            "Epoch 123/150\n",
            "16/16 [==============================] - 2s 127ms/step - loss: 0.3838 - accuracy: 0.8445 - val_loss: 1.8168 - val_accuracy: 0.4667\n",
            "Epoch 124/150\n",
            "16/16 [==============================] - 3s 226ms/step - loss: 0.4098 - accuracy: 0.8301 - val_loss: 1.9997 - val_accuracy: 0.4444\n",
            "Epoch 125/150\n",
            "16/16 [==============================] - 2s 128ms/step - loss: 0.4394 - accuracy: 0.8287 - val_loss: 2.3731 - val_accuracy: 0.4444\n",
            "Epoch 126/150\n",
            "16/16 [==============================] - 3s 172ms/step - loss: 0.4491 - accuracy: 0.8330 - val_loss: 2.1963 - val_accuracy: 0.3778\n",
            "Epoch 127/150\n",
            "16/16 [==============================] - 3s 178ms/step - loss: 0.4417 - accuracy: 0.8310 - val_loss: 1.9325 - val_accuracy: 0.4667\n",
            "Epoch 128/150\n",
            "16/16 [==============================] - 2s 127ms/step - loss: 0.3845 - accuracy: 0.8466 - val_loss: 1.9698 - val_accuracy: 0.4222\n",
            "Epoch 129/150\n",
            "16/16 [==============================] - 2s 126ms/step - loss: 0.3766 - accuracy: 0.8380 - val_loss: 1.8584 - val_accuracy: 0.4667\n",
            "Epoch 130/150\n",
            "16/16 [==============================] - 2s 130ms/step - loss: 0.3701 - accuracy: 0.8418 - val_loss: 2.4291 - val_accuracy: 0.4222\n",
            "Epoch 131/150\n",
            "16/16 [==============================] - 2s 123ms/step - loss: 0.3367 - accuracy: 0.8845 - val_loss: 1.9978 - val_accuracy: 0.5778\n",
            "Epoch 132/150\n",
            "16/16 [==============================] - 2s 125ms/step - loss: 0.3485 - accuracy: 0.8419 - val_loss: 2.1489 - val_accuracy: 0.4222\n",
            "Epoch 133/150\n",
            "16/16 [==============================] - 2s 124ms/step - loss: 0.3569 - accuracy: 0.8405 - val_loss: 2.7074 - val_accuracy: 0.4444\n",
            "Epoch 134/150\n",
            "16/16 [==============================] - 3s 173ms/step - loss: 0.4005 - accuracy: 0.8298 - val_loss: 1.8185 - val_accuracy: 0.4444\n",
            "Epoch 135/150\n",
            "16/16 [==============================] - 2s 124ms/step - loss: 0.3233 - accuracy: 0.8642 - val_loss: 2.4014 - val_accuracy: 0.4444\n",
            "Epoch 136/150\n",
            "16/16 [==============================] - 2s 129ms/step - loss: 0.3449 - accuracy: 0.8624 - val_loss: 2.4167 - val_accuracy: 0.4222\n",
            "Epoch 137/150\n",
            "16/16 [==============================] - 2s 127ms/step - loss: 0.5016 - accuracy: 0.8076 - val_loss: 1.7084 - val_accuracy: 0.4667\n",
            "Epoch 138/150\n",
            "16/16 [==============================] - 2s 128ms/step - loss: 0.4076 - accuracy: 0.8334 - val_loss: 2.6015 - val_accuracy: 0.4222\n",
            "Epoch 139/150\n",
            "16/16 [==============================] - 2s 127ms/step - loss: 0.4654 - accuracy: 0.8362 - val_loss: 2.0602 - val_accuracy: 0.4000\n",
            "Epoch 140/150\n",
            "16/16 [==============================] - 2s 129ms/step - loss: 0.3418 - accuracy: 0.8676 - val_loss: 2.2088 - val_accuracy: 0.4444\n",
            "Epoch 141/150\n",
            "16/16 [==============================] - 3s 173ms/step - loss: 0.3308 - accuracy: 0.8684 - val_loss: 1.8846 - val_accuracy: 0.4667\n",
            "Epoch 142/150\n",
            "16/16 [==============================] - 3s 180ms/step - loss: 0.2962 - accuracy: 0.8906 - val_loss: 2.0874 - val_accuracy: 0.3556\n",
            "Epoch 143/150\n",
            "16/16 [==============================] - 2s 128ms/step - loss: 0.3902 - accuracy: 0.8433 - val_loss: 2.2231 - val_accuracy: 0.4444\n",
            "Epoch 144/150\n",
            "16/16 [==============================] - 2s 126ms/step - loss: 0.3587 - accuracy: 0.8779 - val_loss: 2.4362 - val_accuracy: 0.4444\n",
            "Epoch 145/150\n",
            "16/16 [==============================] - 2s 129ms/step - loss: 0.3384 - accuracy: 0.8780 - val_loss: 2.1836 - val_accuracy: 0.4000\n",
            "Epoch 146/150\n",
            "16/16 [==============================] - 2s 128ms/step - loss: 0.3164 - accuracy: 0.8797 - val_loss: 1.8664 - val_accuracy: 0.4222\n",
            "Epoch 147/150\n",
            "16/16 [==============================] - 2s 128ms/step - loss: 0.2698 - accuracy: 0.8970 - val_loss: 2.1191 - val_accuracy: 0.5111\n",
            "Epoch 148/150\n",
            "16/16 [==============================] - 2s 126ms/step - loss: 0.4412 - accuracy: 0.8178 - val_loss: 2.0465 - val_accuracy: 0.4667\n",
            "Epoch 149/150\n",
            "16/16 [==============================] - 2s 127ms/step - loss: 0.3870 - accuracy: 0.8630 - val_loss: 2.5632 - val_accuracy: 0.4222\n",
            "Epoch 150/150\n",
            "16/16 [==============================] - 2s 128ms/step - loss: 0.4330 - accuracy: 0.8233 - val_loss: 2.0689 - val_accuracy: 0.4889\n"
          ],
          "name": "stdout"
        },
        {
          "output_type": "execute_result",
          "data": {
            "text/plain": [
              "<tensorflow.python.keras.callbacks.History at 0x7fb48c4b8c90>"
            ]
          },
          "metadata": {
            "tags": []
          },
          "execution_count": 9
        }
      ]
    },
    {
      "cell_type": "code",
      "metadata": {
        "id": "zYyYwpwx4TMQ"
      },
      "source": [
        "layer_outputs = [layer.output for layer in model.layers[:-5]] "
      ],
      "execution_count": null,
      "outputs": []
    },
    {
      "cell_type": "code",
      "metadata": {
        "colab": {
          "base_uri": "https://localhost:8080/"
        },
        "id": "1OqHv3qU4pwT",
        "outputId": "b4cc773c-c677-4c78-8090-df491862af43"
      },
      "source": [
        "\n",
        "layer_outputs"
      ],
      "execution_count": null,
      "outputs": [
        {
          "output_type": "execute_result",
          "data": {
            "text/plain": [
              "[<KerasTensor: shape=(None, 30, 30, 128) dtype=float32 (created by layer 'conv2d')>,\n",
              " <KerasTensor: shape=(None, 28, 28, 128) dtype=float32 (created by layer 'conv2d_1')>,\n",
              " <KerasTensor: shape=(None, 14, 14, 128) dtype=float32 (created by layer 'max_pooling2d')>,\n",
              " <KerasTensor: shape=(None, 14, 14, 128) dtype=float32 (created by layer 'dropout')>,\n",
              " <KerasTensor: shape=(None, 14, 14, 64) dtype=float32 (created by layer 'conv2d_2')>,\n",
              " <KerasTensor: shape=(None, 14, 14, 64) dtype=float32 (created by layer 'conv2d_3')>,\n",
              " <KerasTensor: shape=(None, 7, 7, 64) dtype=float32 (created by layer 'max_pooling2d_1')>,\n",
              " <KerasTensor: shape=(None, 7, 7, 64) dtype=float32 (created by layer 'dropout_1')>,\n",
              " <KerasTensor: shape=(None, 7, 7, 32) dtype=float32 (created by layer 'conv2d_4')>,\n",
              " <KerasTensor: shape=(None, 7, 7, 32) dtype=float32 (created by layer 'dropout_2')>]"
            ]
          },
          "metadata": {
            "tags": []
          },
          "execution_count": 11
        }
      ]
    },
    {
      "cell_type": "code",
      "metadata": {
        "id": "1EUweZ6h4t_1"
      },
      "source": [
        "activation_model = models.Model(inputs=model.input, outputs=layer_outputs)"
      ],
      "execution_count": null,
      "outputs": []
    },
    {
      "cell_type": "code",
      "metadata": {
        "colab": {
          "base_uri": "https://localhost:8080/",
          "height": 283
        },
        "id": "wyxekpSY4y9o",
        "outputId": "640949b3-4cda-4e60-a1c9-8868f79412c3"
      },
      "source": [
        "img = keras.preprocessing.image.load_img('/content/drive/MyDrive/Phd_Data_set_Implementation/Aug-Training-four/EL/HL_0_1004.jpeg',target_size=(32,32,3))\n",
        "img = keras.preprocessing.image.img_to_array(img)\n",
        "array=keras.preprocessing.image.img_to_array(img)\n",
        "array=np.expand_dims(array,axis=0)\n",
        "img_tensor = array\n",
        "img_tensor /= 255.\n",
        "plt.imshow(img_tensor[0])\n",
        "plt.show()\n",
        "print(img_tensor.shape)"
      ],
      "execution_count": null,
      "outputs": [
        {
          "output_type": "display_data",
          "data": {
            "image/png": "[encoded data removed]",
            "text/plain": [
              "<Figure size 432x288 with 1 Axes>"
            ]
          },
          "metadata": {
            "tags": [],
            "needs_background": "light"
          }
        },
        {
          "output_type": "stream",
          "text": [
            "(1, 32, 32, 3)\n"
          ],
          "name": "stdout"
        }
      ]
    },
    {
      "cell_type": "code",
      "metadata": {
        "colab": {
          "base_uri": "https://localhost:8080/"
        },
        "id": "-lMYzLox5dqj",
        "outputId": "a0f59087-3db4-44c2-a4e5-1909fe9c5e13"
      },
      "source": [
        "model.predict(img_tensor)"
      ],
      "execution_count": null,
      "outputs": [
        {
          "output_type": "execute_result",
          "data": {
            "text/plain": [
              "array([[3.4427496e-05, 9.9902892e-01, 6.6649790e-08, 9.3662401e-04]],\n",
              "      dtype=float32)"
            ]
          },
          "metadata": {
            "tags": []
          },
          "execution_count": 14
        }
      ]
    },
    {
      "cell_type": "code",
      "metadata": {
        "colab": {
          "base_uri": "https://localhost:8080/"
        },
        "id": "NVs3rmvb5kQp",
        "outputId": "1d451eea-0172-497c-d72d-6edf213d223a"
      },
      "source": [
        "activations = activation_model.predict(img_tensor) \n",
        "last_layer_activation = activations[8]\n",
        "print(last_layer_activation.shape)"
      ],
      "execution_count": null,
      "outputs": [
        {
          "output_type": "stream",
          "text": [
            "(1, 7, 7, 32)\n"
          ],
          "name": "stdout"
        }
      ]
    },
    {
      "cell_type": "code",
      "metadata": {
        "colab": {
          "base_uri": "https://localhost:8080/",
          "height": 283
        },
        "id": "ZnJPuPjv5pk6",
        "outputId": "3ecc4c76-cfd3-47d0-98e1-e11f0294789f"
      },
      "source": [
        "heatmap = np.mean(last_layer_activation, axis=-1)\n",
        "heatmap = np.maximum(heatmap, 0) / np.max(heatmap)\n",
        "plt.imshow(heatmap[0])"
      ],
      "execution_count": null,
      "outputs": [
        {
          "output_type": "execute_result",
          "data": {
            "text/plain": [
              "<matplotlib.image.AxesImage at 0x7fb4700ada90>"
            ]
          },
          "metadata": {
            "tags": []
          },
          "execution_count": 16
        },
        {
          "output_type": "display_data",
          "data": {
            "image/png": "[encoded data removed]",
            "text/plain": [
              "<Figure size 432x288 with 1 Axes>"
            ]
          },
          "metadata": {
            "tags": [],
            "needs_background": "light"
          }
        }
      ]
    },
    {
      "cell_type": "code",
      "metadata": {
        "colab": {
          "base_uri": "https://localhost:8080/"
        },
        "id": "UYEvQb2_5tBH",
        "outputId": "9bca7060-500f-4d12-a8da-b26114d0379c"
      },
      "source": [
        "heatmap=heatmap[0,:,:,]\n",
        "heatmap.shape"
      ],
      "execution_count": null,
      "outputs": [
        {
          "output_type": "execute_result",
          "data": {
            "text/plain": [
              "(7, 7)"
            ]
          },
          "metadata": {
            "tags": []
          },
          "execution_count": 17
        }
      ]
    },
    {
      "cell_type": "code",
      "metadata": {
        "id": "HDfI1T6J5x2s"
      },
      "source": [
        "\n",
        "eps = K.epsilon()\n",
        "for i in range(len(last_layer_activation[0])):\n",
        "  for j in range(len(last_layer_activation[0][i])):\n",
        "    for k in range(len(last_layer_activation[0][i][j])):\n",
        "      if last_layer_activation[0][i][j][k]==0.:\n",
        "        last_layer_activation[0][i][j][k]=eps"
      ],
      "execution_count": null,
      "outputs": []
    },
    {
      "cell_type": "code",
      "metadata": {
        "colab": {
          "base_uri": "https://localhost:8080/"
        },
        "id": "SRkfy7qY51VC",
        "outputId": "59830428-8f3e-4c55-9e5a-fe1b883ba0e9"
      },
      "source": [
        "last_layer_activation"
      ],
      "execution_count": null,
      "outputs": [
        {
          "output_type": "execute_result",
          "data": {
            "text/plain": [
              "array([[[[1.0000000e-07, 1.0000000e-07, 1.0000000e-07, ...,\n",
              "          1.0000000e-07, 1.0000000e-07, 1.0000000e-07],\n",
              "         [1.0000000e-07, 1.0000000e-07, 1.0000000e-07, ...,\n",
              "          1.0000000e-07, 1.0000000e-07, 1.0000000e-07],\n",
              "         [2.4352792e-01, 1.0000000e-07, 1.0000000e-07, ...,\n",
              "          1.0000000e-07, 1.0000000e-07, 1.0000000e-07],\n",
              "         ...,\n",
              "         [3.6302366e+00, 1.0000000e-07, 1.0000000e-07, ...,\n",
              "          1.0000000e-07, 1.0000000e-07, 1.0000000e-07],\n",
              "         [4.0712371e+00, 1.0000000e-07, 1.0000000e-07, ...,\n",
              "          1.0000000e-07, 1.0000000e-07, 1.0000000e-07],\n",
              "         [2.3455846e+00, 1.0000000e-07, 1.0000000e-07, ...,\n",
              "          1.0000000e-07, 1.0000000e-07, 1.0000000e-07]],\n",
              "\n",
              "        [[1.0000000e-07, 1.0000000e-07, 1.0000000e-07, ...,\n",
              "          1.0000000e-07, 1.0000000e-07, 1.0000000e-07],\n",
              "         [1.0000000e-07, 1.0000000e-07, 1.0000000e-07, ...,\n",
              "          1.0000000e-07, 1.0000000e-07, 1.0000000e-07],\n",
              "         [2.7498734e+00, 1.0000000e-07, 1.0000000e-07, ...,\n",
              "          1.0000000e-07, 1.0000000e-07, 1.0000000e-07],\n",
              "         ...,\n",
              "         [4.9956155e+00, 1.0000000e-07, 1.0000000e-07, ...,\n",
              "          1.0000000e-07, 1.0000000e-07, 1.0000000e-07],\n",
              "         [2.6615481e+00, 1.0000000e-07, 1.0000000e-07, ...,\n",
              "          1.0000000e-07, 1.0000000e-07, 1.0000000e-07],\n",
              "         [1.0000000e-07, 1.0000000e-07, 1.0000000e-07, ...,\n",
              "          1.0000000e-07, 1.0000000e-07, 1.0000000e-07]],\n",
              "\n",
              "        [[1.0000000e-07, 1.0000000e-07, 1.0000000e-07, ...,\n",
              "          1.0000000e-07, 1.0000000e-07, 1.0000000e-07],\n",
              "         [4.0669947e+00, 1.0000000e-07, 1.0000000e-07, ...,\n",
              "          1.0000000e-07, 1.0000000e-07, 1.0000000e-07],\n",
              "         [9.5830450e+00, 1.0000000e-07, 1.0000000e-07, ...,\n",
              "          1.0000000e-07, 1.0000000e-07, 1.0000000e-07],\n",
              "         ...,\n",
              "         [7.1622424e+00, 1.0000000e-07, 1.0000000e-07, ...,\n",
              "          1.0000000e-07, 1.0000000e-07, 1.0000000e-07],\n",
              "         [8.1581020e-01, 1.0000000e-07, 1.0000000e-07, ...,\n",
              "          1.0000000e-07, 1.0000000e-07, 1.0000000e-07],\n",
              "         [1.0000000e-07, 1.0000000e-07, 1.0000000e-07, ...,\n",
              "          1.0000000e-07, 1.0000000e-07, 1.0000000e-07]],\n",
              "\n",
              "        ...,\n",
              "\n",
              "        [[4.5544970e-01, 1.0000000e-07, 1.0000000e-07, ...,\n",
              "          1.0000000e-07, 2.9549098e-01, 1.0000000e-07],\n",
              "         [6.0769022e-03, 1.0000000e-07, 1.0000000e-07, ...,\n",
              "          1.0000000e-07, 1.0000000e-07, 1.0000000e-07],\n",
              "         [1.0000000e-07, 1.0000000e-07, 1.0000000e-07, ...,\n",
              "          1.0000000e-07, 1.0000000e-07, 1.0000000e-07],\n",
              "         ...,\n",
              "         [1.0000000e-07, 1.0000000e-07, 1.0000000e-07, ...,\n",
              "          1.0000000e-07, 1.0000000e-07, 1.0000000e-07],\n",
              "         [1.0000000e-07, 1.0000000e-07, 1.0000000e-07, ...,\n",
              "          1.0000000e-07, 1.8601605e+00, 1.0000000e-07],\n",
              "         [1.0000000e-07, 1.0000000e-07, 1.0000000e-07, ...,\n",
              "          1.0000000e-07, 8.3003119e-02, 1.0000000e-07]],\n",
              "\n",
              "        [[3.1741492e-02, 1.0000000e-07, 1.0000000e-07, ...,\n",
              "          1.0000000e-07, 1.0000000e-07, 1.0000000e-07],\n",
              "         [1.0000000e-07, 1.0000000e-07, 1.0000000e-07, ...,\n",
              "          1.0000000e-07, 1.0000000e-07, 1.0000000e-07],\n",
              "         [1.0000000e-07, 1.0000000e-07, 1.0000000e-07, ...,\n",
              "          1.0000000e-07, 3.2573229e-01, 1.0000000e-07],\n",
              "         ...,\n",
              "         [1.0000000e-07, 1.0000000e-07, 1.0000000e-07, ...,\n",
              "          1.0000000e-07, 1.1458368e+00, 1.0000000e-07],\n",
              "         [1.0000000e-07, 1.0000000e-07, 1.0000000e-07, ...,\n",
              "          1.0000000e-07, 1.4706405e+00, 1.0000000e-07],\n",
              "         [1.0000000e-07, 1.0000000e-07, 1.0000000e-07, ...,\n",
              "          1.0000000e-07, 1.0000000e-07, 1.0000000e-07]],\n",
              "\n",
              "        [[1.0000000e-07, 1.0000000e-07, 1.0000000e-07, ...,\n",
              "          1.0000000e-07, 6.6334230e-01, 1.0000000e-07],\n",
              "         [1.0000000e-07, 3.4243804e-01, 1.0000000e-07, ...,\n",
              "          1.0000000e-07, 1.0000000e-07, 1.0000000e-07],\n",
              "         [1.0000000e-07, 9.7319955e-01, 1.0000000e-07, ...,\n",
              "          1.0000000e-07, 4.7116843e-01, 1.0000000e-07],\n",
              "         ...,\n",
              "         [1.0000000e-07, 4.3482322e-01, 1.0000000e-07, ...,\n",
              "          1.0000000e-07, 2.2948439e+00, 1.0000000e-07],\n",
              "         [1.0000000e-07, 1.0000000e-07, 1.0000000e-07, ...,\n",
              "          1.0000000e-07, 7.0468193e-01, 1.0000000e-07],\n",
              "         [1.0000000e-07, 1.0000000e-07, 1.0000000e-07, ...,\n",
              "          1.0000000e-07, 1.0000000e-07, 1.0000000e-07]]]], dtype=float32)"
            ]
          },
          "metadata": {
            "tags": []
          },
          "execution_count": 19
        }
      ]
    },
    {
      "cell_type": "code",
      "metadata": {
        "id": "QplDFtU45486"
      },
      "source": [
        "image_final=np.zeros_like(img_tensor)\n",
        "activations_final = activation_model.predict(image_final)"
      ],
      "execution_count": null,
      "outputs": []
    },
    {
      "cell_type": "code",
      "metadata": {
        "colab": {
          "base_uri": "https://localhost:8080/"
        },
        "id": "kp0NDa1k6A6y",
        "outputId": "6ccbc0a5-22ea-4bae-c51e-7c3357e1d7b9"
      },
      "source": [
        "activations_final"
      ],
      "execution_count": null,
      "outputs": [
        {
          "output_type": "execute_result",
          "data": {
            "text/plain": [
              "[array([[[[0.        , 0.07686652, 0.        , ..., 0.07932793,\n",
              "           0.00652802, 0.05265252],\n",
              "          [0.        , 0.07686652, 0.        , ..., 0.07932793,\n",
              "           0.00652802, 0.05265252],\n",
              "          [0.        , 0.07686652, 0.        , ..., 0.07932793,\n",
              "           0.00652802, 0.05265252],\n",
              "          ...,\n",
              "          [0.        , 0.07686652, 0.        , ..., 0.07932793,\n",
              "           0.00652802, 0.05265252],\n",
              "          [0.        , 0.07686652, 0.        , ..., 0.07932793,\n",
              "           0.00652802, 0.05265252],\n",
              "          [0.        , 0.07686652, 0.        , ..., 0.07932793,\n",
              "           0.00652802, 0.05265252]],\n",
              " \n",
              "         [[0.        , 0.07686652, 0.        , ..., 0.07932793,\n",
              "           0.00652802, 0.05265252],\n",
              "          [0.        , 0.07686652, 0.        , ..., 0.07932793,\n",
              "           0.00652802, 0.05265252],\n",
              "          [0.        , 0.07686652, 0.        , ..., 0.07932793,\n",
              "           0.00652802, 0.05265252],\n",
              "          ...,\n",
              "          [0.        , 0.07686652, 0.        , ..., 0.07932793,\n",
              "           0.00652802, 0.05265252],\n",
              "          [0.        , 0.07686652, 0.        , ..., 0.07932793,\n",
              "           0.00652802, 0.05265252],\n",
              "          [0.        , 0.07686652, 0.        , ..., 0.07932793,\n",
              "           0.00652802, 0.05265252]],\n",
              " \n",
              "         [[0.        , 0.07686652, 0.        , ..., 0.07932793,\n",
              "           0.00652802, 0.05265252],\n",
              "          [0.        , 0.07686652, 0.        , ..., 0.07932793,\n",
              "           0.00652802, 0.05265252],\n",
              "          [0.        , 0.07686652, 0.        , ..., 0.07932793,\n",
              "           0.00652802, 0.05265252],\n",
              "          ...,\n",
              "          [0.        , 0.07686652, 0.        , ..., 0.07932793,\n",
              "           0.00652802, 0.05265252],\n",
              "          [0.        , 0.07686652, 0.        , ..., 0.07932793,\n",
              "           0.00652802, 0.05265252],\n",
              "          [0.        , 0.07686652, 0.        , ..., 0.07932793,\n",
              "           0.00652802, 0.05265252]],\n",
              " \n",
              "         ...,\n",
              " \n",
              "         [[0.        , 0.07686652, 0.        , ..., 0.07932793,\n",
              "           0.00652802, 0.05265252],\n",
              "          [0.        , 0.07686652, 0.        , ..., 0.07932793,\n",
              "           0.00652802, 0.05265252],\n",
              "          [0.        , 0.07686652, 0.        , ..., 0.07932793,\n",
              "           0.00652802, 0.05265252],\n",
              "          ...,\n",
              "          [0.        , 0.07686652, 0.        , ..., 0.07932793,\n",
              "           0.00652802, 0.05265252],\n",
              "          [0.        , 0.07686652, 0.        , ..., 0.07932793,\n",
              "           0.00652802, 0.05265252],\n",
              "          [0.        , 0.07686652, 0.        , ..., 0.07932793,\n",
              "           0.00652802, 0.05265252]],\n",
              " \n",
              "         [[0.        , 0.07686652, 0.        , ..., 0.07932793,\n",
              "           0.00652802, 0.05265252],\n",
              "          [0.        , 0.07686652, 0.        , ..., 0.07932793,\n",
              "           0.00652802, 0.05265252],\n",
              "          [0.        , 0.07686652, 0.        , ..., 0.07932793,\n",
              "           0.00652802, 0.05265252],\n",
              "          ...,\n",
              "          [0.        , 0.07686652, 0.        , ..., 0.07932793,\n",
              "           0.00652802, 0.05265252],\n",
              "          [0.        , 0.07686652, 0.        , ..., 0.07932793,\n",
              "           0.00652802, 0.05265252],\n",
              "          [0.        , 0.07686652, 0.        , ..., 0.07932793,\n",
              "           0.00652802, 0.05265252]],\n",
              " \n",
              "         [[0.        , 0.07686652, 0.        , ..., 0.07932793,\n",
              "           0.00652802, 0.05265252],\n",
              "          [0.        , 0.07686652, 0.        , ..., 0.07932793,\n",
              "           0.00652802, 0.05265252],\n",
              "          [0.        , 0.07686652, 0.        , ..., 0.07932793,\n",
              "           0.00652802, 0.05265252],\n",
              "          ...,\n",
              "          [0.        , 0.07686652, 0.        , ..., 0.07932793,\n",
              "           0.00652802, 0.05265252],\n",
              "          [0.        , 0.07686652, 0.        , ..., 0.07932793,\n",
              "           0.00652802, 0.05265252],\n",
              "          [0.        , 0.07686652, 0.        , ..., 0.07932793,\n",
              "           0.00652802, 0.05265252]]]], dtype=float32),\n",
              " array([[[[0.       , 0.       , 0.       , ..., 0.       , 1.4477293,\n",
              "           0.       ],\n",
              "          [0.       , 0.       , 0.       , ..., 0.       , 1.4477293,\n",
              "           0.       ],\n",
              "          [0.       , 0.       , 0.       , ..., 0.       , 1.4477293,\n",
              "           0.       ],\n",
              "          ...,\n",
              "          [0.       , 0.       , 0.       , ..., 0.       , 1.4477293,\n",
              "           0.       ],\n",
              "          [0.       , 0.       , 0.       , ..., 0.       , 1.4477293,\n",
              "           0.       ],\n",
              "          [0.       , 0.       , 0.       , ..., 0.       , 1.4477293,\n",
              "           0.       ]],\n",
              " \n",
              "         [[0.       , 0.       , 0.       , ..., 0.       , 1.4477293,\n",
              "           0.       ],\n",
              "          [0.       , 0.       , 0.       , ..., 0.       , 1.4477293,\n",
              "           0.       ],\n",
              "          [0.       , 0.       , 0.       , ..., 0.       , 1.4477293,\n",
              "           0.       ],\n",
              "          ...,\n",
              "          [0.       , 0.       , 0.       , ..., 0.       , 1.4477293,\n",
              "           0.       ],\n",
              "          [0.       , 0.       , 0.       , ..., 0.       , 1.4477293,\n",
              "           0.       ],\n",
              "          [0.       , 0.       , 0.       , ..., 0.       , 1.4477293,\n",
              "           0.       ]],\n",
              " \n",
              "         [[0.       , 0.       , 0.       , ..., 0.       , 1.4477293,\n",
              "           0.       ],\n",
              "          [0.       , 0.       , 0.       , ..., 0.       , 1.4477293,\n",
              "           0.       ],\n",
              "          [0.       , 0.       , 0.       , ..., 0.       , 1.4477293,\n",
              "           0.       ],\n",
              "          ...,\n",
              "          [0.       , 0.       , 0.       , ..., 0.       , 1.4477293,\n",
              "           0.       ],\n",
              "          [0.       , 0.       , 0.       , ..., 0.       , 1.4477293,\n",
              "           0.       ],\n",
              "          [0.       , 0.       , 0.       , ..., 0.       , 1.4477293,\n",
              "           0.       ]],\n",
              " \n",
              "         ...,\n",
              " \n",
              "         [[0.       , 0.       , 0.       , ..., 0.       , 1.4477293,\n",
              "           0.       ],\n",
              "          [0.       , 0.       , 0.       , ..., 0.       , 1.4477293,\n",
              "           0.       ],\n",
              "          [0.       , 0.       , 0.       , ..., 0.       , 1.4477293,\n",
              "           0.       ],\n",
              "          ...,\n",
              "          [0.       , 0.       , 0.       , ..., 0.       , 1.4477293,\n",
              "           0.       ],\n",
              "          [0.       , 0.       , 0.       , ..., 0.       , 1.4477293,\n",
              "           0.       ],\n",
              "          [0.       , 0.       , 0.       , ..., 0.       , 1.4477293,\n",
              "           0.       ]],\n",
              " \n",
              "         [[0.       , 0.       , 0.       , ..., 0.       , 1.4477293,\n",
              "           0.       ],\n",
              "          [0.       , 0.       , 0.       , ..., 0.       , 1.4477293,\n",
              "           0.       ],\n",
              "          [0.       , 0.       , 0.       , ..., 0.       , 1.4477293,\n",
              "           0.       ],\n",
              "          ...,\n",
              "          [0.       , 0.       , 0.       , ..., 0.       , 1.4477293,\n",
              "           0.       ],\n",
              "          [0.       , 0.       , 0.       , ..., 0.       , 1.4477293,\n",
              "           0.       ],\n",
              "          [0.       , 0.       , 0.       , ..., 0.       , 1.4477293,\n",
              "           0.       ]],\n",
              " \n",
              "         [[0.       , 0.       , 0.       , ..., 0.       , 1.4477293,\n",
              "           0.       ],\n",
              "          [0.       , 0.       , 0.       , ..., 0.       , 1.4477293,\n",
              "           0.       ],\n",
              "          [0.       , 0.       , 0.       , ..., 0.       , 1.4477293,\n",
              "           0.       ],\n",
              "          ...,\n",
              "          [0.       , 0.       , 0.       , ..., 0.       , 1.4477293,\n",
              "           0.       ],\n",
              "          [0.       , 0.       , 0.       , ..., 0.       , 1.4477293,\n",
              "           0.       ],\n",
              "          [0.       , 0.       , 0.       , ..., 0.       , 1.4477293,\n",
              "           0.       ]]]], dtype=float32),\n",
              " array([[[[0.       , 0.       , 0.       , ..., 0.       , 1.4477293,\n",
              "           0.       ],\n",
              "          [0.       , 0.       , 0.       , ..., 0.       , 1.4477293,\n",
              "           0.       ],\n",
              "          [0.       , 0.       , 0.       , ..., 0.       , 1.4477293,\n",
              "           0.       ],\n",
              "          ...,\n",
              "          [0.       , 0.       , 0.       , ..., 0.       , 1.4477293,\n",
              "           0.       ],\n",
              "          [0.       , 0.       , 0.       , ..., 0.       , 1.4477293,\n",
              "           0.       ],\n",
              "          [0.       , 0.       , 0.       , ..., 0.       , 1.4477293,\n",
              "           0.       ]],\n",
              " \n",
              "         [[0.       , 0.       , 0.       , ..., 0.       , 1.4477293,\n",
              "           0.       ],\n",
              "          [0.       , 0.       , 0.       , ..., 0.       , 1.4477293,\n",
              "           0.       ],\n",
              "          [0.       , 0.       , 0.       , ..., 0.       , 1.4477293,\n",
              "           0.       ],\n",
              "          ...,\n",
              "          [0.       , 0.       , 0.       , ..., 0.       , 1.4477293,\n",
              "           0.       ],\n",
              "          [0.       , 0.       , 0.       , ..., 0.       , 1.4477293,\n",
              "           0.       ],\n",
              "          [0.       , 0.       , 0.       , ..., 0.       , 1.4477293,\n",
              "           0.       ]],\n",
              " \n",
              "         [[0.       , 0.       , 0.       , ..., 0.       , 1.4477293,\n",
              "           0.       ],\n",
              "          [0.       , 0.       , 0.       , ..., 0.       , 1.4477293,\n",
              "           0.       ],\n",
              "          [0.       , 0.       , 0.       , ..., 0.       , 1.4477293,\n",
              "           0.       ],\n",
              "          ...,\n",
              "          [0.       , 0.       , 0.       , ..., 0.       , 1.4477293,\n",
              "           0.       ],\n",
              "          [0.       , 0.       , 0.       , ..., 0.       , 1.4477293,\n",
              "           0.       ],\n",
              "          [0.       , 0.       , 0.       , ..., 0.       , 1.4477293,\n",
              "           0.       ]],\n",
              " \n",
              "         ...,\n",
              " \n",
              "         [[0.       , 0.       , 0.       , ..., 0.       , 1.4477293,\n",
              "           0.       ],\n",
              "          [0.       , 0.       , 0.       , ..., 0.       , 1.4477293,\n",
              "           0.       ],\n",
              "          [0.       , 0.       , 0.       , ..., 0.       , 1.4477293,\n",
              "           0.       ],\n",
              "          ...,\n",
              "          [0.       , 0.       , 0.       , ..., 0.       , 1.4477293,\n",
              "           0.       ],\n",
              "          [0.       , 0.       , 0.       , ..., 0.       , 1.4477293,\n",
              "           0.       ],\n",
              "          [0.       , 0.       , 0.       , ..., 0.       , 1.4477293,\n",
              "           0.       ]],\n",
              " \n",
              "         [[0.       , 0.       , 0.       , ..., 0.       , 1.4477293,\n",
              "           0.       ],\n",
              "          [0.       , 0.       , 0.       , ..., 0.       , 1.4477293,\n",
              "           0.       ],\n",
              "          [0.       , 0.       , 0.       , ..., 0.       , 1.4477293,\n",
              "           0.       ],\n",
              "          ...,\n",
              "          [0.       , 0.       , 0.       , ..., 0.       , 1.4477293,\n",
              "           0.       ],\n",
              "          [0.       , 0.       , 0.       , ..., 0.       , 1.4477293,\n",
              "           0.       ],\n",
              "          [0.       , 0.       , 0.       , ..., 0.       , 1.4477293,\n",
              "           0.       ]],\n",
              " \n",
              "         [[0.       , 0.       , 0.       , ..., 0.       , 1.4477293,\n",
              "           0.       ],\n",
              "          [0.       , 0.       , 0.       , ..., 0.       , 1.4477293,\n",
              "           0.       ],\n",
              "          [0.       , 0.       , 0.       , ..., 0.       , 1.4477293,\n",
              "           0.       ],\n",
              "          ...,\n",
              "          [0.       , 0.       , 0.       , ..., 0.       , 1.4477293,\n",
              "           0.       ],\n",
              "          [0.       , 0.       , 0.       , ..., 0.       , 1.4477293,\n",
              "           0.       ],\n",
              "          [0.       , 0.       , 0.       , ..., 0.       , 1.4477293,\n",
              "           0.       ]]]], dtype=float32),\n",
              " array([[[[0.       , 0.       , 0.       , ..., 0.       , 1.4477293,\n",
              "           0.       ],\n",
              "          [0.       , 0.       , 0.       , ..., 0.       , 1.4477293,\n",
              "           0.       ],\n",
              "          [0.       , 0.       , 0.       , ..., 0.       , 1.4477293,\n",
              "           0.       ],\n",
              "          ...,\n",
              "          [0.       , 0.       , 0.       , ..., 0.       , 1.4477293,\n",
              "           0.       ],\n",
              "          [0.       , 0.       , 0.       , ..., 0.       , 1.4477293,\n",
              "           0.       ],\n",
              "          [0.       , 0.       , 0.       , ..., 0.       , 1.4477293,\n",
              "           0.       ]],\n",
              " \n",
              "         [[0.       , 0.       , 0.       , ..., 0.       , 1.4477293,\n",
              "           0.       ],\n",
              "          [0.       , 0.       , 0.       , ..., 0.       , 1.4477293,\n",
              "           0.       ],\n",
              "          [0.       , 0.       , 0.       , ..., 0.       , 1.4477293,\n",
              "           0.       ],\n",
              "          ...,\n",
              "          [0.       , 0.       , 0.       , ..., 0.       , 1.4477293,\n",
              "           0.       ],\n",
              "          [0.       , 0.       , 0.       , ..., 0.       , 1.4477293,\n",
              "           0.       ],\n",
              "          [0.       , 0.       , 0.       , ..., 0.       , 1.4477293,\n",
              "           0.       ]],\n",
              " \n",
              "         [[0.       , 0.       , 0.       , ..., 0.       , 1.4477293,\n",
              "           0.       ],\n",
              "          [0.       , 0.       , 0.       , ..., 0.       , 1.4477293,\n",
              "           0.       ],\n",
              "          [0.       , 0.       , 0.       , ..., 0.       , 1.4477293,\n",
              "           0.       ],\n",
              "          ...,\n",
              "          [0.       , 0.       , 0.       , ..., 0.       , 1.4477293,\n",
              "           0.       ],\n",
              "          [0.       , 0.       , 0.       , ..., 0.       , 1.4477293,\n",
              "           0.       ],\n",
              "          [0.       , 0.       , 0.       , ..., 0.       , 1.4477293,\n",
              "           0.       ]],\n",
              " \n",
              "         ...,\n",
              " \n",
              "         [[0.       , 0.       , 0.       , ..., 0.       , 1.4477293,\n",
              "           0.       ],\n",
              "          [0.       , 0.       , 0.       , ..., 0.       , 1.4477293,\n",
              "           0.       ],\n",
              "          [0.       , 0.       , 0.       , ..., 0.       , 1.4477293,\n",
              "           0.       ],\n",
              "          ...,\n",
              "          [0.       , 0.       , 0.       , ..., 0.       , 1.4477293,\n",
              "           0.       ],\n",
              "          [0.       , 0.       , 0.       , ..., 0.       , 1.4477293,\n",
              "           0.       ],\n",
              "          [0.       , 0.       , 0.       , ..., 0.       , 1.4477293,\n",
              "           0.       ]],\n",
              " \n",
              "         [[0.       , 0.       , 0.       , ..., 0.       , 1.4477293,\n",
              "           0.       ],\n",
              "          [0.       , 0.       , 0.       , ..., 0.       , 1.4477293,\n",
              "           0.       ],\n",
              "          [0.       , 0.       , 0.       , ..., 0.       , 1.4477293,\n",
              "           0.       ],\n",
              "          ...,\n",
              "          [0.       , 0.       , 0.       , ..., 0.       , 1.4477293,\n",
              "           0.       ],\n",
              "          [0.       , 0.       , 0.       , ..., 0.       , 1.4477293,\n",
              "           0.       ],\n",
              "          [0.       , 0.       , 0.       , ..., 0.       , 1.4477293,\n",
              "           0.       ]],\n",
              " \n",
              "         [[0.       , 0.       , 0.       , ..., 0.       , 1.4477293,\n",
              "           0.       ],\n",
              "          [0.       , 0.       , 0.       , ..., 0.       , 1.4477293,\n",
              "           0.       ],\n",
              "          [0.       , 0.       , 0.       , ..., 0.       , 1.4477293,\n",
              "           0.       ],\n",
              "          ...,\n",
              "          [0.       , 0.       , 0.       , ..., 0.       , 1.4477293,\n",
              "           0.       ],\n",
              "          [0.       , 0.       , 0.       , ..., 0.       , 1.4477293,\n",
              "           0.       ],\n",
              "          [0.       , 0.       , 0.       , ..., 0.       , 1.4477293,\n",
              "           0.       ]]]], dtype=float32),\n",
              " array([[[[0., 0., 0., ..., 0., 0., 0.],\n",
              "          [0., 0., 0., ..., 0., 0., 0.],\n",
              "          [0., 0., 0., ..., 0., 0., 0.],\n",
              "          ...,\n",
              "          [0., 0., 0., ..., 0., 0., 0.],\n",
              "          [0., 0., 0., ..., 0., 0., 0.],\n",
              "          [0., 0., 0., ..., 0., 0., 0.]],\n",
              " \n",
              "         [[0., 0., 0., ..., 0., 0., 0.],\n",
              "          [0., 0., 0., ..., 0., 0., 0.],\n",
              "          [0., 0., 0., ..., 0., 0., 0.],\n",
              "          ...,\n",
              "          [0., 0., 0., ..., 0., 0., 0.],\n",
              "          [0., 0., 0., ..., 0., 0., 0.],\n",
              "          [0., 0., 0., ..., 0., 0., 0.]],\n",
              " \n",
              "         [[0., 0., 0., ..., 0., 0., 0.],\n",
              "          [0., 0., 0., ..., 0., 0., 0.],\n",
              "          [0., 0., 0., ..., 0., 0., 0.],\n",
              "          ...,\n",
              "          [0., 0., 0., ..., 0., 0., 0.],\n",
              "          [0., 0., 0., ..., 0., 0., 0.],\n",
              "          [0., 0., 0., ..., 0., 0., 0.]],\n",
              " \n",
              "         ...,\n",
              " \n",
              "         [[0., 0., 0., ..., 0., 0., 0.],\n",
              "          [0., 0., 0., ..., 0., 0., 0.],\n",
              "          [0., 0., 0., ..., 0., 0., 0.],\n",
              "          ...,\n",
              "          [0., 0., 0., ..., 0., 0., 0.],\n",
              "          [0., 0., 0., ..., 0., 0., 0.],\n",
              "          [0., 0., 0., ..., 0., 0., 0.]],\n",
              " \n",
              "         [[0., 0., 0., ..., 0., 0., 0.],\n",
              "          [0., 0., 0., ..., 0., 0., 0.],\n",
              "          [0., 0., 0., ..., 0., 0., 0.],\n",
              "          ...,\n",
              "          [0., 0., 0., ..., 0., 0., 0.],\n",
              "          [0., 0., 0., ..., 0., 0., 0.],\n",
              "          [0., 0., 0., ..., 0., 0., 0.]],\n",
              " \n",
              "         [[0., 0., 0., ..., 0., 0., 0.],\n",
              "          [0., 0., 0., ..., 0., 0., 0.],\n",
              "          [0., 0., 0., ..., 0., 0., 0.],\n",
              "          ...,\n",
              "          [0., 0., 0., ..., 0., 0., 0.],\n",
              "          [0., 0., 0., ..., 0., 0., 0.],\n",
              "          [0., 0., 0., ..., 0., 0., 0.]]]], dtype=float32),\n",
              " array([[[[0.        , 0.        , 0.69827753, ..., 0.        ,\n",
              "           0.        , 0.        ],\n",
              "          [0.20563678, 0.        , 0.879148  , ..., 0.        ,\n",
              "           0.        , 0.        ],\n",
              "          [0.24374762, 0.        , 0.82430995, ..., 0.        ,\n",
              "           0.        , 0.        ],\n",
              "          ...,\n",
              "          [0.24374762, 0.        , 0.82430995, ..., 0.        ,\n",
              "           0.        , 0.        ],\n",
              "          [0.14170234, 0.        , 0.83952105, ..., 0.        ,\n",
              "           0.        , 0.        ],\n",
              "          [0.5678167 , 0.        , 0.35364044, ..., 0.        ,\n",
              "           0.        , 0.        ]],\n",
              " \n",
              "         [[0.5145125 , 0.        , 0.03444897, ..., 0.        ,\n",
              "           0.05491815, 0.        ],\n",
              "          [1.8066536 , 0.        , 0.68057317, ..., 0.        ,\n",
              "           0.        , 0.        ],\n",
              "          [1.7745467 , 0.        , 0.78013164, ..., 0.        ,\n",
              "           0.3645762 , 0.        ],\n",
              "          ...,\n",
              "          [1.7745467 , 0.        , 0.78013164, ..., 0.        ,\n",
              "           0.3645762 , 0.        ],\n",
              "          [1.3472345 , 0.        , 1.0498757 , ..., 0.        ,\n",
              "           0.2629358 , 0.        ],\n",
              "          [1.4035093 , 0.        , 0.7642295 , ..., 0.        ,\n",
              "           0.27386826, 0.        ]],\n",
              " \n",
              "         [[0.36255005, 0.        , 0.41276067, ..., 0.        ,\n",
              "           0.        , 0.        ],\n",
              "          [1.2666701 , 0.        , 1.1505431 , ..., 0.        ,\n",
              "           0.        , 0.        ],\n",
              "          [1.6112281 , 0.        , 1.2598425 , ..., 0.        ,\n",
              "           0.21226068, 0.        ],\n",
              "          ...,\n",
              "          [1.6112281 , 0.        , 1.2598425 , ..., 0.        ,\n",
              "           0.21226068, 0.        ],\n",
              "          [1.2510594 , 0.        , 1.4734775 , ..., 0.        ,\n",
              "           0.3470621 , 0.        ],\n",
              "          [1.2078863 , 0.        , 1.0939982 , ..., 0.        ,\n",
              "           0.36460003, 0.        ]],\n",
              " \n",
              "         ...,\n",
              " \n",
              "         [[0.36255005, 0.        , 0.41276067, ..., 0.        ,\n",
              "           0.        , 0.        ],\n",
              "          [1.2666701 , 0.        , 1.1505431 , ..., 0.        ,\n",
              "           0.        , 0.        ],\n",
              "          [1.6112281 , 0.        , 1.2598425 , ..., 0.        ,\n",
              "           0.21226068, 0.        ],\n",
              "          ...,\n",
              "          [1.6112281 , 0.        , 1.2598425 , ..., 0.        ,\n",
              "           0.21226068, 0.        ],\n",
              "          [1.2510594 , 0.        , 1.4734775 , ..., 0.        ,\n",
              "           0.3470621 , 0.        ],\n",
              "          [1.2078863 , 0.        , 1.0939982 , ..., 0.        ,\n",
              "           0.36460003, 0.        ]],\n",
              " \n",
              "         [[0.19032902, 0.        , 0.17441982, ..., 0.        ,\n",
              "           0.08648139, 0.        ],\n",
              "          [0.95928067, 0.        , 1.0764989 , ..., 0.        ,\n",
              "           0.15095504, 0.        ],\n",
              "          [1.306173  , 0.        , 1.0546346 , ..., 0.        ,\n",
              "           0.4443848 , 0.        ],\n",
              "          ...,\n",
              "          [1.306173  , 0.        , 1.0546346 , ..., 0.        ,\n",
              "           0.4443848 , 0.        ],\n",
              "          [0.93516165, 0.        , 1.2377564 , ..., 0.        ,\n",
              "           0.53824115, 0.        ],\n",
              "          [0.8576125 , 0.        , 1.107507  , ..., 0.        ,\n",
              "           0.3931617 , 0.        ]],\n",
              " \n",
              "         [[0.45071325, 0.        , 0.        , ..., 0.        ,\n",
              "           0.34581795, 0.        ],\n",
              "          [0.51132447, 0.        , 0.19585282, ..., 0.        ,\n",
              "           0.04604252, 0.        ],\n",
              "          [0.8804343 , 0.00490657, 0.54309297, ..., 0.        ,\n",
              "           0.46074203, 0.        ],\n",
              "          ...,\n",
              "          [0.8804343 , 0.00490657, 0.54309297, ..., 0.        ,\n",
              "           0.46074203, 0.        ],\n",
              "          [0.7175923 , 0.06752603, 0.5792841 , ..., 0.        ,\n",
              "           0.5948708 , 0.        ],\n",
              "          [0.50901514, 0.        , 0.7993558 , ..., 0.        ,\n",
              "           0.46967638, 0.        ]]]], dtype=float32),\n",
              " array([[[[1.8066536 , 0.        , 0.879148  , ..., 0.        ,\n",
              "           0.05491815, 0.        ],\n",
              "          [1.7745467 , 0.        , 0.82430995, ..., 0.        ,\n",
              "           0.3645762 , 0.        ],\n",
              "          [1.7745467 , 0.        , 0.82430995, ..., 0.        ,\n",
              "           0.3645762 , 0.        ],\n",
              "          ...,\n",
              "          [1.7745467 , 0.        , 0.82430995, ..., 0.        ,\n",
              "           0.3645762 , 0.        ],\n",
              "          [1.7745467 , 0.        , 0.82430995, ..., 0.        ,\n",
              "           0.3645762 , 0.        ],\n",
              "          [1.4035093 , 0.        , 1.0498757 , ..., 0.        ,\n",
              "           0.27386826, 0.        ]],\n",
              " \n",
              "         [[1.2666701 , 0.        , 1.1505431 , ..., 0.        ,\n",
              "           0.        , 0.        ],\n",
              "          [1.6112281 , 0.        , 1.2598425 , ..., 0.        ,\n",
              "           0.21226068, 0.        ],\n",
              "          [1.6112281 , 0.        , 1.2598425 , ..., 0.        ,\n",
              "           0.21226068, 0.        ],\n",
              "          ...,\n",
              "          [1.6112281 , 0.        , 1.2598425 , ..., 0.        ,\n",
              "           0.21226068, 0.        ],\n",
              "          [1.6112281 , 0.        , 1.2598425 , ..., 0.        ,\n",
              "           0.21226068, 0.        ],\n",
              "          [1.2510594 , 0.        , 1.4734775 , ..., 0.        ,\n",
              "           0.36460003, 0.        ]],\n",
              " \n",
              "         [[1.2666701 , 0.        , 1.1505431 , ..., 0.        ,\n",
              "           0.        , 0.        ],\n",
              "          [1.6112281 , 0.        , 1.2598425 , ..., 0.        ,\n",
              "           0.21226068, 0.        ],\n",
              "          [1.6112281 , 0.        , 1.2598425 , ..., 0.        ,\n",
              "           0.21226068, 0.        ],\n",
              "          ...,\n",
              "          [1.6112281 , 0.        , 1.2598425 , ..., 0.        ,\n",
              "           0.21226068, 0.        ],\n",
              "          [1.6112281 , 0.        , 1.2598425 , ..., 0.        ,\n",
              "           0.21226068, 0.        ],\n",
              "          [1.2510594 , 0.        , 1.4734775 , ..., 0.        ,\n",
              "           0.36460003, 0.        ]],\n",
              " \n",
              "         ...,\n",
              " \n",
              "         [[1.2666701 , 0.        , 1.1505431 , ..., 0.        ,\n",
              "           0.        , 0.        ],\n",
              "          [1.6112281 , 0.        , 1.2598425 , ..., 0.        ,\n",
              "           0.21226068, 0.        ],\n",
              "          [1.6112281 , 0.        , 1.2598425 , ..., 0.        ,\n",
              "           0.21226068, 0.        ],\n",
              "          ...,\n",
              "          [1.6112281 , 0.        , 1.2598425 , ..., 0.        ,\n",
              "           0.21226068, 0.        ],\n",
              "          [1.6112281 , 0.        , 1.2598425 , ..., 0.        ,\n",
              "           0.21226068, 0.        ],\n",
              "          [1.2510594 , 0.        , 1.4734775 , ..., 0.        ,\n",
              "           0.36460003, 0.        ]],\n",
              " \n",
              "         [[1.2666701 , 0.        , 1.1505431 , ..., 0.        ,\n",
              "           0.        , 0.        ],\n",
              "          [1.6112281 , 0.        , 1.2598425 , ..., 0.        ,\n",
              "           0.21226068, 0.        ],\n",
              "          [1.6112281 , 0.        , 1.2598425 , ..., 0.        ,\n",
              "           0.21226068, 0.        ],\n",
              "          ...,\n",
              "          [1.6112281 , 0.        , 1.2598425 , ..., 0.        ,\n",
              "           0.21226068, 0.        ],\n",
              "          [1.6112281 , 0.        , 1.2598425 , ..., 0.        ,\n",
              "           0.21226068, 0.        ],\n",
              "          [1.2510594 , 0.        , 1.4734775 , ..., 0.        ,\n",
              "           0.36460003, 0.        ]],\n",
              " \n",
              "         [[0.95928067, 0.        , 1.0764989 , ..., 0.        ,\n",
              "           0.34581795, 0.        ],\n",
              "          [1.306173  , 0.00490657, 1.0546346 , ..., 0.        ,\n",
              "           0.46074203, 0.        ],\n",
              "          [1.306173  , 0.00490657, 1.0546346 , ..., 0.        ,\n",
              "           0.46074203, 0.        ],\n",
              "          ...,\n",
              "          [1.306173  , 0.00490657, 1.0546346 , ..., 0.        ,\n",
              "           0.46074203, 0.        ],\n",
              "          [1.306173  , 0.00490657, 1.0546346 , ..., 0.        ,\n",
              "           0.46074203, 0.        ],\n",
              "          [0.93516165, 0.06752603, 1.2377564 , ..., 0.        ,\n",
              "           0.5948708 , 0.        ]]]], dtype=float32),\n",
              " array([[[[1.8066536 , 0.        , 0.879148  , ..., 0.        ,\n",
              "           0.05491815, 0.        ],\n",
              "          [1.7745467 , 0.        , 0.82430995, ..., 0.        ,\n",
              "           0.3645762 , 0.        ],\n",
              "          [1.7745467 , 0.        , 0.82430995, ..., 0.        ,\n",
              "           0.3645762 , 0.        ],\n",
              "          ...,\n",
              "          [1.7745467 , 0.        , 0.82430995, ..., 0.        ,\n",
              "           0.3645762 , 0.        ],\n",
              "          [1.7745467 , 0.        , 0.82430995, ..., 0.        ,\n",
              "           0.3645762 , 0.        ],\n",
              "          [1.4035093 , 0.        , 1.0498757 , ..., 0.        ,\n",
              "           0.27386826, 0.        ]],\n",
              " \n",
              "         [[1.2666701 , 0.        , 1.1505431 , ..., 0.        ,\n",
              "           0.        , 0.        ],\n",
              "          [1.6112281 , 0.        , 1.2598425 , ..., 0.        ,\n",
              "           0.21226068, 0.        ],\n",
              "          [1.6112281 , 0.        , 1.2598425 , ..., 0.        ,\n",
              "           0.21226068, 0.        ],\n",
              "          ...,\n",
              "          [1.6112281 , 0.        , 1.2598425 , ..., 0.        ,\n",
              "           0.21226068, 0.        ],\n",
              "          [1.6112281 , 0.        , 1.2598425 , ..., 0.        ,\n",
              "           0.21226068, 0.        ],\n",
              "          [1.2510594 , 0.        , 1.4734775 , ..., 0.        ,\n",
              "           0.36460003, 0.        ]],\n",
              " \n",
              "         [[1.2666701 , 0.        , 1.1505431 , ..., 0.        ,\n",
              "           0.        , 0.        ],\n",
              "          [1.6112281 , 0.        , 1.2598425 , ..., 0.        ,\n",
              "           0.21226068, 0.        ],\n",
              "          [1.6112281 , 0.        , 1.2598425 , ..., 0.        ,\n",
              "           0.21226068, 0.        ],\n",
              "          ...,\n",
              "          [1.6112281 , 0.        , 1.2598425 , ..., 0.        ,\n",
              "           0.21226068, 0.        ],\n",
              "          [1.6112281 , 0.        , 1.2598425 , ..., 0.        ,\n",
              "           0.21226068, 0.        ],\n",
              "          [1.2510594 , 0.        , 1.4734775 , ..., 0.        ,\n",
              "           0.36460003, 0.        ]],\n",
              " \n",
              "         ...,\n",
              " \n",
              "         [[1.2666701 , 0.        , 1.1505431 , ..., 0.        ,\n",
              "           0.        , 0.        ],\n",
              "          [1.6112281 , 0.        , 1.2598425 , ..., 0.        ,\n",
              "           0.21226068, 0.        ],\n",
              "          [1.6112281 , 0.        , 1.2598425 , ..., 0.        ,\n",
              "           0.21226068, 0.        ],\n",
              "          ...,\n",
              "          [1.6112281 , 0.        , 1.2598425 , ..., 0.        ,\n",
              "           0.21226068, 0.        ],\n",
              "          [1.6112281 , 0.        , 1.2598425 , ..., 0.        ,\n",
              "           0.21226068, 0.        ],\n",
              "          [1.2510594 , 0.        , 1.4734775 , ..., 0.        ,\n",
              "           0.36460003, 0.        ]],\n",
              " \n",
              "         [[1.2666701 , 0.        , 1.1505431 , ..., 0.        ,\n",
              "           0.        , 0.        ],\n",
              "          [1.6112281 , 0.        , 1.2598425 , ..., 0.        ,\n",
              "           0.21226068, 0.        ],\n",
              "          [1.6112281 , 0.        , 1.2598425 , ..., 0.        ,\n",
              "           0.21226068, 0.        ],\n",
              "          ...,\n",
              "          [1.6112281 , 0.        , 1.2598425 , ..., 0.        ,\n",
              "           0.21226068, 0.        ],\n",
              "          [1.6112281 , 0.        , 1.2598425 , ..., 0.        ,\n",
              "           0.21226068, 0.        ],\n",
              "          [1.2510594 , 0.        , 1.4734775 , ..., 0.        ,\n",
              "           0.36460003, 0.        ]],\n",
              " \n",
              "         [[0.95928067, 0.        , 1.0764989 , ..., 0.        ,\n",
              "           0.34581795, 0.        ],\n",
              "          [1.306173  , 0.00490657, 1.0546346 , ..., 0.        ,\n",
              "           0.46074203, 0.        ],\n",
              "          [1.306173  , 0.00490657, 1.0546346 , ..., 0.        ,\n",
              "           0.46074203, 0.        ],\n",
              "          ...,\n",
              "          [1.306173  , 0.00490657, 1.0546346 , ..., 0.        ,\n",
              "           0.46074203, 0.        ],\n",
              "          [1.306173  , 0.00490657, 1.0546346 , ..., 0.        ,\n",
              "           0.46074203, 0.        ],\n",
              "          [0.93516165, 0.06752603, 1.2377564 , ..., 0.        ,\n",
              "           0.5948708 , 0.        ]]]], dtype=float32),\n",
              " array([[[[0.        , 0.        , 0.        , ..., 0.        ,\n",
              "           0.        , 0.06215121],\n",
              "          [0.        , 0.        , 0.        , ..., 0.        ,\n",
              "           0.        , 0.02513475],\n",
              "          [0.        , 0.        , 0.        , ..., 0.        ,\n",
              "           0.        , 0.        ],\n",
              "          ...,\n",
              "          [0.        , 0.        , 0.        , ..., 0.        ,\n",
              "           0.        , 0.        ],\n",
              "          [0.        , 0.        , 0.        , ..., 0.        ,\n",
              "           0.        , 0.13503239],\n",
              "          [0.        , 0.        , 0.        , ..., 0.        ,\n",
              "           0.        , 0.        ]],\n",
              " \n",
              "         [[0.        , 0.        , 0.        , ..., 0.        ,\n",
              "           0.01739472, 0.        ],\n",
              "          [0.        , 0.        , 0.        , ..., 0.        ,\n",
              "           0.        , 0.        ],\n",
              "          [0.        , 0.        , 0.        , ..., 0.        ,\n",
              "           0.        , 0.        ],\n",
              "          ...,\n",
              "          [0.        , 0.        , 0.        , ..., 0.        ,\n",
              "           0.        , 0.        ],\n",
              "          [0.        , 0.        , 0.        , ..., 0.        ,\n",
              "           0.        , 0.        ],\n",
              "          [0.        , 0.        , 0.        , ..., 0.        ,\n",
              "           0.        , 0.        ]],\n",
              " \n",
              "         [[0.        , 0.        , 0.        , ..., 0.        ,\n",
              "           0.        , 0.        ],\n",
              "          [0.        , 0.        , 0.        , ..., 0.        ,\n",
              "           0.        , 0.        ],\n",
              "          [0.        , 0.        , 0.        , ..., 0.        ,\n",
              "           0.        , 0.        ],\n",
              "          ...,\n",
              "          [0.        , 0.        , 0.        , ..., 0.        ,\n",
              "           0.        , 0.        ],\n",
              "          [0.        , 0.        , 0.        , ..., 0.        ,\n",
              "           0.        , 0.        ],\n",
              "          [0.        , 0.        , 0.        , ..., 0.        ,\n",
              "           0.        , 0.        ]],\n",
              " \n",
              "         ...,\n",
              " \n",
              "         [[0.        , 0.        , 0.        , ..., 0.        ,\n",
              "           0.        , 0.        ],\n",
              "          [0.        , 0.        , 0.        , ..., 0.        ,\n",
              "           0.        , 0.        ],\n",
              "          [0.        , 0.        , 0.        , ..., 0.        ,\n",
              "           0.        , 0.        ],\n",
              "          ...,\n",
              "          [0.        , 0.        , 0.        , ..., 0.        ,\n",
              "           0.        , 0.        ],\n",
              "          [0.        , 0.        , 0.        , ..., 0.        ,\n",
              "           0.        , 0.        ],\n",
              "          [0.        , 0.        , 0.        , ..., 0.        ,\n",
              "           0.        , 0.        ]],\n",
              " \n",
              "         [[0.        , 0.        , 0.        , ..., 0.        ,\n",
              "           0.        , 0.        ],\n",
              "          [0.        , 0.        , 0.        , ..., 0.        ,\n",
              "           0.        , 0.        ],\n",
              "          [0.        , 0.        , 0.        , ..., 0.        ,\n",
              "           0.        , 0.        ],\n",
              "          ...,\n",
              "          [0.        , 0.        , 0.        , ..., 0.        ,\n",
              "           0.        , 0.        ],\n",
              "          [0.        , 0.        , 0.        , ..., 0.        ,\n",
              "           0.        , 0.        ],\n",
              "          [0.        , 0.        , 0.        , ..., 0.        ,\n",
              "           0.        , 0.        ]],\n",
              " \n",
              "         [[0.        , 0.        , 0.        , ..., 0.        ,\n",
              "           0.34291494, 0.        ],\n",
              "          [0.        , 0.        , 0.        , ..., 0.        ,\n",
              "           0.        , 0.        ],\n",
              "          [0.        , 0.        , 0.        , ..., 0.        ,\n",
              "           0.        , 0.        ],\n",
              "          ...,\n",
              "          [0.        , 0.        , 0.        , ..., 0.        ,\n",
              "           0.        , 0.        ],\n",
              "          [0.        , 0.        , 0.        , ..., 0.        ,\n",
              "           0.        , 0.        ],\n",
              "          [0.        , 0.        , 0.        , ..., 0.        ,\n",
              "           0.        , 0.        ]]]], dtype=float32),\n",
              " array([[[[0.        , 0.        , 0.        , ..., 0.        ,\n",
              "           0.        , 0.06215121],\n",
              "          [0.        , 0.        , 0.        , ..., 0.        ,\n",
              "           0.        , 0.02513475],\n",
              "          [0.        , 0.        , 0.        , ..., 0.        ,\n",
              "           0.        , 0.        ],\n",
              "          ...,\n",
              "          [0.        , 0.        , 0.        , ..., 0.        ,\n",
              "           0.        , 0.        ],\n",
              "          [0.        , 0.        , 0.        , ..., 0.        ,\n",
              "           0.        , 0.13503239],\n",
              "          [0.        , 0.        , 0.        , ..., 0.        ,\n",
              "           0.        , 0.        ]],\n",
              " \n",
              "         [[0.        , 0.        , 0.        , ..., 0.        ,\n",
              "           0.01739472, 0.        ],\n",
              "          [0.        , 0.        , 0.        , ..., 0.        ,\n",
              "           0.        , 0.        ],\n",
              "          [0.        , 0.        , 0.        , ..., 0.        ,\n",
              "           0.        , 0.        ],\n",
              "          ...,\n",
              "          [0.        , 0.        , 0.        , ..., 0.        ,\n",
              "           0.        , 0.        ],\n",
              "          [0.        , 0.        , 0.        , ..., 0.        ,\n",
              "           0.        , 0.        ],\n",
              "          [0.        , 0.        , 0.        , ..., 0.        ,\n",
              "           0.        , 0.        ]],\n",
              " \n",
              "         [[0.        , 0.        , 0.        , ..., 0.        ,\n",
              "           0.        , 0.        ],\n",
              "          [0.        , 0.        , 0.        , ..., 0.        ,\n",
              "           0.        , 0.        ],\n",
              "          [0.        , 0.        , 0.        , ..., 0.        ,\n",
              "           0.        , 0.        ],\n",
              "          ...,\n",
              "          [0.        , 0.        , 0.        , ..., 0.        ,\n",
              "           0.        , 0.        ],\n",
              "          [0.        , 0.        , 0.        , ..., 0.        ,\n",
              "           0.        , 0.        ],\n",
              "          [0.        , 0.        , 0.        , ..., 0.        ,\n",
              "           0.        , 0.        ]],\n",
              " \n",
              "         ...,\n",
              " \n",
              "         [[0.        , 0.        , 0.        , ..., 0.        ,\n",
              "           0.        , 0.        ],\n",
              "          [0.        , 0.        , 0.        , ..., 0.        ,\n",
              "           0.        , 0.        ],\n",
              "          [0.        , 0.        , 0.        , ..., 0.        ,\n",
              "           0.        , 0.        ],\n",
              "          ...,\n",
              "          [0.        , 0.        , 0.        , ..., 0.        ,\n",
              "           0.        , 0.        ],\n",
              "          [0.        , 0.        , 0.        , ..., 0.        ,\n",
              "           0.        , 0.        ],\n",
              "          [0.        , 0.        , 0.        , ..., 0.        ,\n",
              "           0.        , 0.        ]],\n",
              " \n",
              "         [[0.        , 0.        , 0.        , ..., 0.        ,\n",
              "           0.        , 0.        ],\n",
              "          [0.        , 0.        , 0.        , ..., 0.        ,\n",
              "           0.        , 0.        ],\n",
              "          [0.        , 0.        , 0.        , ..., 0.        ,\n",
              "           0.        , 0.        ],\n",
              "          ...,\n",
              "          [0.        , 0.        , 0.        , ..., 0.        ,\n",
              "           0.        , 0.        ],\n",
              "          [0.        , 0.        , 0.        , ..., 0.        ,\n",
              "           0.        , 0.        ],\n",
              "          [0.        , 0.        , 0.        , ..., 0.        ,\n",
              "           0.        , 0.        ]],\n",
              " \n",
              "         [[0.        , 0.        , 0.        , ..., 0.        ,\n",
              "           0.34291494, 0.        ],\n",
              "          [0.        , 0.        , 0.        , ..., 0.        ,\n",
              "           0.        , 0.        ],\n",
              "          [0.        , 0.        , 0.        , ..., 0.        ,\n",
              "           0.        , 0.        ],\n",
              "          ...,\n",
              "          [0.        , 0.        , 0.        , ..., 0.        ,\n",
              "           0.        , 0.        ],\n",
              "          [0.        , 0.        , 0.        , ..., 0.        ,\n",
              "           0.        , 0.        ],\n",
              "          [0.        , 0.        , 0.        , ..., 0.        ,\n",
              "           0.        , 0.        ]]]], dtype=float32)]"
            ]
          },
          "metadata": {
            "tags": []
          },
          "execution_count": 21
        }
      ]
    },
    {
      "cell_type": "code",
      "metadata": {
        "colab": {
          "base_uri": "https://localhost:8080/"
        },
        "id": "U8k7Mu_a6GIA",
        "outputId": "0d23ccfc-0205-42e3-d9bc-81adf937cba9"
      },
      "source": [
        "last_layer_activation_final = activations_final[8]\n",
        "print(last_layer_activation_final.shape)"
      ],
      "execution_count": null,
      "outputs": [
        {
          "output_type": "stream",
          "text": [
            "(1, 7, 7, 32)\n"
          ],
          "name": "stdout"
        }
      ]
    },
    {
      "cell_type": "code",
      "metadata": {
        "colab": {
          "base_uri": "https://localhost:8080/",
          "height": 283
        },
        "id": "nhyaobZH6Oy1",
        "outputId": "c78caec4-4001-408d-b306-780d6783fb1a"
      },
      "source": [
        "heatmap_final = np.mean(last_layer_activation_final, axis=-1)\n",
        "heatmap_final = np.maximum(heatmap_final, 0) / np.max(heatmap_final)\n",
        "plt.imshow(heatmap_final[0])"
      ],
      "execution_count": null,
      "outputs": [
        {
          "output_type": "execute_result",
          "data": {
            "text/plain": [
              "<matplotlib.image.AxesImage at 0x7fb3d14de3d0>"
            ]
          },
          "metadata": {
            "tags": []
          },
          "execution_count": 23
        },
        {
          "output_type": "display_data",
          "data": {
            "image/png": "[encoded data removed]",
            "text/plain": [
              "<Figure size 432x288 with 1 Axes>"
            ]
          },
          "metadata": {
            "tags": [],
            "needs_background": "light"
          }
        }
      ]
    },
    {
      "cell_type": "code",
      "metadata": {
        "colab": {
          "base_uri": "https://localhost:8080/"
        },
        "id": "YMAG2JOp6SdW",
        "outputId": "422d6827-0cbc-40fc-8f8a-5fc9b6fbbc44"
      },
      "source": [
        "print(last_layer_activation.shape,last_layer_activation_final.shape)"
      ],
      "execution_count": null,
      "outputs": [
        {
          "output_type": "stream",
          "text": [
            "(1, 7, 7, 32) (1, 7, 7, 32)\n"
          ],
          "name": "stdout"
        }
      ]
    },
    {
      "cell_type": "code",
      "metadata": {
        "id": "hJ5NhZ7E6XmE"
      },
      "source": [
        "weights_ratio=(last_layer_activation-last_layer_activation_final)/last_layer_activation"
      ],
      "execution_count": null,
      "outputs": []
    },
    {
      "cell_type": "code",
      "metadata": {
        "colab": {
          "base_uri": "https://localhost:8080/"
        },
        "id": "u821EakD6bY5",
        "outputId": "5916146b-33ce-40fe-fc55-5741b01b710c"
      },
      "source": [
        "weights_ratio"
      ],
      "execution_count": null,
      "outputs": [
        {
          "output_type": "execute_result",
          "data": {
            "text/plain": [
              "array([[[[ 1.0000000e+00,  1.0000000e+00,  1.0000000e+00, ...,\n",
              "           1.0000000e+00,  1.0000000e+00, -6.2151106e+05],\n",
              "         [ 1.0000000e+00,  1.0000000e+00,  1.0000000e+00, ...,\n",
              "           1.0000000e+00,  1.0000000e+00, -2.5134648e+05],\n",
              "         [ 1.0000000e+00,  1.0000000e+00,  1.0000000e+00, ...,\n",
              "           1.0000000e+00,  1.0000000e+00,  1.0000000e+00],\n",
              "         ...,\n",
              "         [ 1.0000000e+00,  1.0000000e+00,  1.0000000e+00, ...,\n",
              "           1.0000000e+00,  1.0000000e+00,  1.0000000e+00],\n",
              "         [ 1.0000000e+00,  1.0000000e+00,  1.0000000e+00, ...,\n",
              "           1.0000000e+00,  1.0000000e+00, -1.3503228e+06],\n",
              "         [ 1.0000000e+00,  1.0000000e+00,  1.0000000e+00, ...,\n",
              "           1.0000000e+00,  1.0000000e+00,  1.0000000e+00]],\n",
              "\n",
              "        [[ 1.0000000e+00,  1.0000000e+00,  1.0000000e+00, ...,\n",
              "           1.0000000e+00, -1.7394619e+05,  1.0000000e+00],\n",
              "         [ 1.0000000e+00,  1.0000000e+00,  1.0000000e+00, ...,\n",
              "           1.0000000e+00,  1.0000000e+00,  1.0000000e+00],\n",
              "         [ 1.0000000e+00,  1.0000000e+00,  1.0000000e+00, ...,\n",
              "           1.0000000e+00,  1.0000000e+00,  1.0000000e+00],\n",
              "         ...,\n",
              "         [ 1.0000000e+00,  1.0000000e+00,  1.0000000e+00, ...,\n",
              "           1.0000000e+00,  1.0000000e+00,  1.0000000e+00],\n",
              "         [ 1.0000000e+00,  1.0000000e+00,  1.0000000e+00, ...,\n",
              "           1.0000000e+00,  1.0000000e+00,  1.0000000e+00],\n",
              "         [ 1.0000000e+00,  1.0000000e+00,  1.0000000e+00, ...,\n",
              "           1.0000000e+00,  1.0000000e+00,  1.0000000e+00]],\n",
              "\n",
              "        [[ 1.0000000e+00,  1.0000000e+00,  1.0000000e+00, ...,\n",
              "           1.0000000e+00,  1.0000000e+00,  1.0000000e+00],\n",
              "         [ 1.0000000e+00,  1.0000000e+00,  1.0000000e+00, ...,\n",
              "           1.0000000e+00,  1.0000000e+00,  1.0000000e+00],\n",
              "         [ 1.0000000e+00,  1.0000000e+00,  1.0000000e+00, ...,\n",
              "           1.0000000e+00,  1.0000000e+00,  1.0000000e+00],\n",
              "         ...,\n",
              "         [ 1.0000000e+00,  1.0000000e+00,  1.0000000e+00, ...,\n",
              "           1.0000000e+00,  1.0000000e+00,  1.0000000e+00],\n",
              "         [ 1.0000000e+00,  1.0000000e+00,  1.0000000e+00, ...,\n",
              "           1.0000000e+00,  1.0000000e+00,  1.0000000e+00],\n",
              "         [ 1.0000000e+00,  1.0000000e+00,  1.0000000e+00, ...,\n",
              "           1.0000000e+00,  1.0000000e+00,  1.0000000e+00]],\n",
              "\n",
              "        ...,\n",
              "\n",
              "        [[ 1.0000000e+00,  1.0000000e+00,  1.0000000e+00, ...,\n",
              "           1.0000000e+00,  1.0000000e+00,  1.0000000e+00],\n",
              "         [ 1.0000000e+00,  1.0000000e+00,  1.0000000e+00, ...,\n",
              "           1.0000000e+00,  1.0000000e+00,  1.0000000e+00],\n",
              "         [ 1.0000000e+00,  1.0000000e+00,  1.0000000e+00, ...,\n",
              "           1.0000000e+00,  1.0000000e+00,  1.0000000e+00],\n",
              "         ...,\n",
              "         [ 1.0000000e+00,  1.0000000e+00,  1.0000000e+00, ...,\n",
              "           1.0000000e+00,  1.0000000e+00,  1.0000000e+00],\n",
              "         [ 1.0000000e+00,  1.0000000e+00,  1.0000000e+00, ...,\n",
              "           1.0000000e+00,  1.0000000e+00,  1.0000000e+00],\n",
              "         [ 1.0000000e+00,  1.0000000e+00,  1.0000000e+00, ...,\n",
              "           1.0000000e+00,  1.0000000e+00,  1.0000000e+00]],\n",
              "\n",
              "        [[ 1.0000000e+00,  1.0000000e+00,  1.0000000e+00, ...,\n",
              "           1.0000000e+00,  1.0000000e+00,  1.0000000e+00],\n",
              "         [ 1.0000000e+00,  1.0000000e+00,  1.0000000e+00, ...,\n",
              "           1.0000000e+00,  1.0000000e+00,  1.0000000e+00],\n",
              "         [ 1.0000000e+00,  1.0000000e+00,  1.0000000e+00, ...,\n",
              "           1.0000000e+00,  1.0000000e+00,  1.0000000e+00],\n",
              "         ...,\n",
              "         [ 1.0000000e+00,  1.0000000e+00,  1.0000000e+00, ...,\n",
              "           1.0000000e+00,  1.0000000e+00,  1.0000000e+00],\n",
              "         [ 1.0000000e+00,  1.0000000e+00,  1.0000000e+00, ...,\n",
              "           1.0000000e+00,  1.0000000e+00,  1.0000000e+00],\n",
              "         [ 1.0000000e+00,  1.0000000e+00,  1.0000000e+00, ...,\n",
              "           1.0000000e+00,  1.0000000e+00,  1.0000000e+00]],\n",
              "\n",
              "        [[ 1.0000000e+00,  1.0000000e+00,  1.0000000e+00, ...,\n",
              "           1.0000000e+00,  4.8304978e-01,  1.0000000e+00],\n",
              "         [ 1.0000000e+00,  1.0000000e+00,  1.0000000e+00, ...,\n",
              "           1.0000000e+00,  1.0000000e+00,  1.0000000e+00],\n",
              "         [ 1.0000000e+00,  1.0000000e+00,  1.0000000e+00, ...,\n",
              "           1.0000000e+00,  1.0000000e+00,  1.0000000e+00],\n",
              "         ...,\n",
              "         [ 1.0000000e+00,  1.0000000e+00,  1.0000000e+00, ...,\n",
              "           1.0000000e+00,  1.0000000e+00,  1.0000000e+00],\n",
              "         [ 1.0000000e+00,  1.0000000e+00,  1.0000000e+00, ...,\n",
              "           1.0000000e+00,  1.0000000e+00,  1.0000000e+00],\n",
              "         [ 1.0000000e+00,  1.0000000e+00,  1.0000000e+00, ...,\n",
              "           1.0000000e+00,  1.0000000e+00,  1.0000000e+00]]]],\n",
              "      dtype=float32)"
            ]
          },
          "metadata": {
            "tags": []
          },
          "execution_count": 26
        }
      ]
    },
    {
      "cell_type": "code",
      "metadata": {
        "id": "Ee0-XogR6eCI"
      },
      "source": [
        "# Multipling the weight ratio with final activation layer\n",
        "for i in range(len(last_layer_activation[0])):\n",
        "  for j in range(len(last_layer_activation[0][i])):\n",
        "    last_layer_activation[0][i][j]=(last_layer_activation[0][i][j]*weights_ratio[0][i][j])"
      ],
      "execution_count": null,
      "outputs": []
    },
    {
      "cell_type": "code",
      "metadata": {
        "colab": {
          "base_uri": "https://localhost:8080/"
        },
        "id": "27CjOuKq6jRE",
        "outputId": "ec892f47-705d-45cd-b146-770c83e8c74a"
      },
      "source": [
        "for i in range(len(last_layer_activation[0])):\n",
        "  for j in range(len(last_layer_activation[0][i])):\n",
        "    for k in range(len(last_layer_activation[0][i][j])):\n",
        "      if last_layer_activation[0][i][j][k]<0.:\n",
        "        last_layer_activation[0][i][j][k]=0.\n",
        "last_layer_activation"
      ],
      "execution_count": null,
      "outputs": [
        {
          "output_type": "execute_result",
          "data": {
            "text/plain": [
              "array([[[[1.0000000e-07, 1.0000000e-07, 1.0000000e-07, ...,\n",
              "          1.0000000e-07, 1.0000000e-07, 0.0000000e+00],\n",
              "         [1.0000000e-07, 1.0000000e-07, 1.0000000e-07, ...,\n",
              "          1.0000000e-07, 1.0000000e-07, 0.0000000e+00],\n",
              "         [2.4352792e-01, 1.0000000e-07, 1.0000000e-07, ...,\n",
              "          1.0000000e-07, 1.0000000e-07, 1.0000000e-07],\n",
              "         ...,\n",
              "         [3.6302366e+00, 1.0000000e-07, 1.0000000e-07, ...,\n",
              "          1.0000000e-07, 1.0000000e-07, 1.0000000e-07],\n",
              "         [4.0712371e+00, 1.0000000e-07, 1.0000000e-07, ...,\n",
              "          1.0000000e-07, 1.0000000e-07, 0.0000000e+00],\n",
              "         [2.3455846e+00, 1.0000000e-07, 1.0000000e-07, ...,\n",
              "          1.0000000e-07, 1.0000000e-07, 1.0000000e-07]],\n",
              "\n",
              "        [[1.0000000e-07, 1.0000000e-07, 1.0000000e-07, ...,\n",
              "          1.0000000e-07, 0.0000000e+00, 1.0000000e-07],\n",
              "         [1.0000000e-07, 1.0000000e-07, 1.0000000e-07, ...,\n",
              "          1.0000000e-07, 1.0000000e-07, 1.0000000e-07],\n",
              "         [2.7498734e+00, 1.0000000e-07, 1.0000000e-07, ...,\n",
              "          1.0000000e-07, 1.0000000e-07, 1.0000000e-07],\n",
              "         ...,\n",
              "         [4.9956155e+00, 1.0000000e-07, 1.0000000e-07, ...,\n",
              "          1.0000000e-07, 1.0000000e-07, 1.0000000e-07],\n",
              "         [2.6615481e+00, 1.0000000e-07, 1.0000000e-07, ...,\n",
              "          1.0000000e-07, 1.0000000e-07, 1.0000000e-07],\n",
              "         [1.0000000e-07, 1.0000000e-07, 1.0000000e-07, ...,\n",
              "          1.0000000e-07, 1.0000000e-07, 1.0000000e-07]],\n",
              "\n",
              "        [[1.0000000e-07, 1.0000000e-07, 1.0000000e-07, ...,\n",
              "          1.0000000e-07, 1.0000000e-07, 1.0000000e-07],\n",
              "         [4.0669947e+00, 1.0000000e-07, 1.0000000e-07, ...,\n",
              "          1.0000000e-07, 1.0000000e-07, 1.0000000e-07],\n",
              "         [9.5830450e+00, 1.0000000e-07, 1.0000000e-07, ...,\n",
              "          1.0000000e-07, 1.0000000e-07, 1.0000000e-07],\n",
              "         ...,\n",
              "         [7.1622424e+00, 1.0000000e-07, 1.0000000e-07, ...,\n",
              "          1.0000000e-07, 1.0000000e-07, 1.0000000e-07],\n",
              "         [8.1581020e-01, 1.0000000e-07, 1.0000000e-07, ...,\n",
              "          1.0000000e-07, 1.0000000e-07, 1.0000000e-07],\n",
              "         [1.0000000e-07, 1.0000000e-07, 1.0000000e-07, ...,\n",
              "          1.0000000e-07, 1.0000000e-07, 1.0000000e-07]],\n",
              "\n",
              "        ...,\n",
              "\n",
              "        [[4.5544970e-01, 1.0000000e-07, 1.0000000e-07, ...,\n",
              "          1.0000000e-07, 2.9549098e-01, 1.0000000e-07],\n",
              "         [6.0769022e-03, 1.0000000e-07, 1.0000000e-07, ...,\n",
              "          1.0000000e-07, 1.0000000e-07, 1.0000000e-07],\n",
              "         [1.0000000e-07, 1.0000000e-07, 1.0000000e-07, ...,\n",
              "          1.0000000e-07, 1.0000000e-07, 1.0000000e-07],\n",
              "         ...,\n",
              "         [1.0000000e-07, 1.0000000e-07, 1.0000000e-07, ...,\n",
              "          1.0000000e-07, 1.0000000e-07, 1.0000000e-07],\n",
              "         [1.0000000e-07, 1.0000000e-07, 1.0000000e-07, ...,\n",
              "          1.0000000e-07, 1.8601605e+00, 1.0000000e-07],\n",
              "         [1.0000000e-07, 1.0000000e-07, 1.0000000e-07, ...,\n",
              "          1.0000000e-07, 8.3003119e-02, 1.0000000e-07]],\n",
              "\n",
              "        [[3.1741492e-02, 1.0000000e-07, 1.0000000e-07, ...,\n",
              "          1.0000000e-07, 1.0000000e-07, 1.0000000e-07],\n",
              "         [1.0000000e-07, 1.0000000e-07, 1.0000000e-07, ...,\n",
              "          1.0000000e-07, 1.0000000e-07, 1.0000000e-07],\n",
              "         [1.0000000e-07, 1.0000000e-07, 1.0000000e-07, ...,\n",
              "          1.0000000e-07, 3.2573229e-01, 1.0000000e-07],\n",
              "         ...,\n",
              "         [1.0000000e-07, 1.0000000e-07, 1.0000000e-07, ...,\n",
              "          1.0000000e-07, 1.1458368e+00, 1.0000000e-07],\n",
              "         [1.0000000e-07, 1.0000000e-07, 1.0000000e-07, ...,\n",
              "          1.0000000e-07, 1.4706405e+00, 1.0000000e-07],\n",
              "         [1.0000000e-07, 1.0000000e-07, 1.0000000e-07, ...,\n",
              "          1.0000000e-07, 1.0000000e-07, 1.0000000e-07]],\n",
              "\n",
              "        [[1.0000000e-07, 1.0000000e-07, 1.0000000e-07, ...,\n",
              "          1.0000000e-07, 3.2042736e-01, 1.0000000e-07],\n",
              "         [1.0000000e-07, 3.4243804e-01, 1.0000000e-07, ...,\n",
              "          1.0000000e-07, 1.0000000e-07, 1.0000000e-07],\n",
              "         [1.0000000e-07, 9.7319955e-01, 1.0000000e-07, ...,\n",
              "          1.0000000e-07, 4.7116843e-01, 1.0000000e-07],\n",
              "         ...,\n",
              "         [1.0000000e-07, 4.3482322e-01, 1.0000000e-07, ...,\n",
              "          1.0000000e-07, 2.2948439e+00, 1.0000000e-07],\n",
              "         [1.0000000e-07, 1.0000000e-07, 1.0000000e-07, ...,\n",
              "          1.0000000e-07, 7.0468193e-01, 1.0000000e-07],\n",
              "         [1.0000000e-07, 1.0000000e-07, 1.0000000e-07, ...,\n",
              "          1.0000000e-07, 1.0000000e-07, 1.0000000e-07]]]], dtype=float32)"
            ]
          },
          "metadata": {
            "tags": []
          },
          "execution_count": 28
        }
      ]
    },
    {
      "cell_type": "code",
      "metadata": {
        "colab": {
          "base_uri": "https://localhost:8080/",
          "height": 265
        },
        "id": "Q_ETvX5p6mz6",
        "outputId": "401b45b5-5a4f-419c-cc93-0d0df5a42fee"
      },
      "source": [
        "heatmap = np.mean(last_layer_activation, axis=-1)\n",
        "heatmap = np.maximum(heatmap, 0) / np.max(heatmap)\n",
        "plt.imshow(heatmap[0])\n",
        "plt.savefig(\"heatmap.jpg\")\n",
        "heatmap=heatmap[0,:,:,]"
      ],
      "execution_count": null,
      "outputs": [
        {
          "output_type": "display_data",
          "data": {
            "image/png": "[encoded data removed]",
            "text/plain": [
              "<Figure size 432x288 with 1 Axes>"
            ]
          },
          "metadata": {
            "tags": [],
            "needs_background": "light"
          }
        }
      ]
    },
    {
      "cell_type": "code",
      "metadata": {
        "colab": {
          "base_uri": "https://localhost:8080/",
          "height": 241
        },
        "id": "0uYt62Fc6s7u",
        "outputId": "951aeb7a-9e81-4e16-c6e8-e21ac6a5212e"
      },
      "source": [
        "img = keras.preprocessing.image.load_img('/content/drive/MyDrive/Phd_Data_set_Implementation/Aug-Training-four/EL/HL_0_1004.jpeg')\n",
        "img = keras.preprocessing.image.img_to_array(img)\n",
        "heatmap = np.uint8(255 * heatmap)\n",
        "jet = cm.get_cmap(\"jet\")\n",
        "jet_colors = jet(np.arange(256))[:, :3]\n",
        "jet_heatmap = jet_colors[heatmap]\n",
        "jet_heatmap = keras.preprocessing.image.array_to_img(jet_heatmap)\n",
        "jet_heatmap = jet_heatmap.resize((img.shape[1], img.shape[0]))\n",
        "jet_heatmap = keras.preprocessing.image.img_to_array(jet_heatmap)\n",
        "superimposed_img = jet_heatmap * 0.7 + img\n",
        "superimposed_img = keras.preprocessing.image.array_to_img(superimposed_img)\n",
        "save_path = \"final_image_leaf.jpg\"\n",
        "superimposed_img.save(save_path)\n",
        "display(Image(save_path))"
      ],
      "execution_count": null,
      "outputs": [
        {
          "output_type": "display_data",
          "data": {
            "image/jpeg": "[encoded data removed]",
            "text/plain": [
              "<IPython.core.display.Image object>"
            ]
          },
          "metadata": {
            "tags": []
          }
        }
      ]
    },
    {
      "cell_type": "code",
      "metadata": {
        "colab": {
          "base_uri": "https://localhost:8080/",
          "height": 773
        },
        "id": "41D5OWBz7A0j",
        "outputId": "8e3993c0-5ef6-4d09-c83a-1d3243d166cf"
      },
      "source": [
        "img = keras.preprocessing.image.load_img('/content/drive/MyDrive/Phd_Data_set_Implementation/Aug-Training-four/BL/HL_0_1007.jpeg',target_size=(32,32,3))\n",
        "img = keras.preprocessing.image.img_to_array(img)\n",
        "array=keras.preprocessing.image.img_to_array(img)\n",
        "array=np.expand_dims(array,axis=0)\n",
        "img_tensor = array\n",
        "img_tensor /= 255.\n",
        "plt.imshow(img_tensor[0])\n",
        "plt.show()\n",
        "print(img_tensor.shape)\n",
        "\n",
        "model.predict(img_tensor)\n",
        "\n",
        "activations = activation_model.predict(img_tensor) \n",
        "last_layer_activation = activations[8]\n",
        "print(last_layer_activation.shape)\n",
        "\n",
        "heatmap = np.mean(last_layer_activation, axis=-1)\n",
        "heatmap = np.maximum(heatmap, 0) / np.max(heatmap)\n",
        "plt.imshow(heatmap[0])\n",
        "heatmap=heatmap[0,:,:,]\n",
        "\n",
        "eps = K.epsilon()\n",
        "for i in range(len(last_layer_activation[0])):\n",
        "  for j in range(len(last_layer_activation[0][i])):\n",
        "    for k in range(len(last_layer_activation[0][i][j])):\n",
        "      if last_layer_activation[0][i][j][k]==0.:\n",
        "        last_layer_activation[0][i][j][k]=eps\n",
        "\n",
        "image_final=np.zeros_like(img_tensor)\n",
        "activations_final = activation_model.predict(image_final) \n",
        "\n",
        "last_layer_activation_final = activations_final[8]\n",
        "\n",
        "heatmap_final = np.mean(last_layer_activation_final, axis=-1)\n",
        "heatmap_final = np.maximum(heatmap_final, 0) / np.max(heatmap_final)\n",
        "plt.imshow(heatmap_final[0])\n",
        "\n",
        "weights_ratio=(last_layer_activation-last_layer_activation_final)/last_layer_activation\n",
        "\n",
        "for i in range(len(last_layer_activation[0])):\n",
        "  for j in range(len(last_layer_activation[0][i])):\n",
        "    last_layer_activation[0][i][j]=(last_layer_activation[0][i][j]*weights_ratio[0][i][j])\n",
        "\n",
        "for i in range(len(last_layer_activation[0])):\n",
        "  for j in range(len(last_layer_activation[0][i])):\n",
        "    for k in range(len(last_layer_activation[0][i][j])):\n",
        "      if last_layer_activation[0][i][j][k]<0.:\n",
        "        last_layer_activation[0][i][j][k]=0.\n",
        "\n",
        "heatmap = np.mean(last_layer_activation, axis=-1)\n",
        "heatmap = np.maximum(heatmap, 0) / np.max(heatmap)\n",
        "plt.imshow(heatmap[0])\n",
        "plt.savefig(\"heatmap_bl_leaf_1007.jpg\")\n",
        "heatmap=heatmap[0,:,:,]\n",
        "\n",
        "img = keras.preprocessing.image.load_img('/content/drive/MyDrive/Phd_Data_set_Implementation/Aug-Training-four/BL/HL_0_1007.jpeg')\n",
        "img = keras.preprocessing.image.img_to_array(img)\n",
        "heatmap = np.uint8(255 * heatmap)\n",
        "jet = cm.get_cmap(\"jet\")\n",
        "jet_colors = jet(np.arange(256))[:, :3]\n",
        "jet_heatmap = jet_colors[heatmap]\n",
        "jet_heatmap = keras.preprocessing.image.array_to_img(jet_heatmap)\n",
        "jet_heatmap = jet_heatmap.resize((img.shape[1], img.shape[0]))\n",
        "jet_heatmap = keras.preprocessing.image.img_to_array(jet_heatmap)\n",
        "superimposed_img = jet_heatmap * 0.7 + img\n",
        "superimposed_img = keras.preprocessing.image.array_to_img(superimposed_img)\n",
        "save_path = \"final_image_bl_lraf_1007.jpg\"\n",
        "superimposed_img.save(save_path)\n",
        "display(Image(save_path))"
      ],
      "execution_count": null,
      "outputs": [
        {
          "output_type": "display_data",
          "data": {
            "image/png": "[encoded data removed]",
            "text/plain": [
              "<Figure size 432x288 with 1 Axes>"
            ]
          },
          "metadata": {
            "tags": [],
            "needs_background": "light"
          }
        },
        {
          "output_type": "stream",
          "text": [
            "(1, 32, 32, 3)\n",
            "(1, 7, 7, 32)\n"
          ],
          "name": "stdout"
        },
        {
          "output_type": "display_data",
          "data": {
            "image/jpeg": "[encoded data removed]",
            "text/plain": [
              "<IPython.core.display.Image object>"
            ]
          },
          "metadata": {
            "tags": []
          }
        },
        {
          "output_type": "display_data",
          "data": {
            "image/png": "[encoded data removed]",
            "text/plain": [
              "<Figure size 432x288 with 1 Axes>"
            ]
          },
          "metadata": {
            "tags": [],
            "needs_background": "light"
          }
        }
      ]
    },
    {
      "cell_type": "code",
      "metadata": {
        "colab": {
          "base_uri": "https://localhost:8080/",
          "height": 773
        },
        "id": "jfRM0mQI799I",
        "outputId": "41004322-9724-496a-f228-bf1056f62198"
      },
      "source": [
        "img = keras.preprocessing.image.load_img('/content/drive/MyDrive/Phd_Data_set_Implementation/Aug-Training-four/BL/HL_0_1239.jpeg',target_size=(32,32,3))\n",
        "img = keras.preprocessing.image.img_to_array(img)\n",
        "array=keras.preprocessing.image.img_to_array(img)\n",
        "array=np.expand_dims(array,axis=0)\n",
        "img_tensor = array\n",
        "img_tensor /= 255.\n",
        "plt.imshow(img_tensor[0])\n",
        "plt.show()\n",
        "print(img_tensor.shape)\n",
        "\n",
        "model.predict(img_tensor)\n",
        "\n",
        "activations = activation_model.predict(img_tensor) \n",
        "last_layer_activation = activations[8]\n",
        "print(last_layer_activation.shape)\n",
        "\n",
        "heatmap = np.mean(last_layer_activation, axis=-1)\n",
        "heatmap = np.maximum(heatmap, 0) / np.max(heatmap)\n",
        "plt.imshow(heatmap[0])\n",
        "heatmap=heatmap[0,:,:,]\n",
        "\n",
        "eps = K.epsilon()\n",
        "for i in range(len(last_layer_activation[0])):\n",
        "  for j in range(len(last_layer_activation[0][i])):\n",
        "    for k in range(len(last_layer_activation[0][i][j])):\n",
        "      if last_layer_activation[0][i][j][k]==0.:\n",
        "        last_layer_activation[0][i][j][k]=eps\n",
        "\n",
        "image_final=np.zeros_like(img_tensor)\n",
        "activations_final = activation_model.predict(image_final) \n",
        "\n",
        "last_layer_activation_final = activations_final[8]\n",
        "\n",
        "heatmap_final = np.mean(last_layer_activation_final, axis=-1)\n",
        "heatmap_final = np.maximum(heatmap_final, 0) / np.max(heatmap_final)\n",
        "plt.imshow(heatmap_final[0])\n",
        "\n",
        "weights_ratio=(last_layer_activation-last_layer_activation_final)/last_layer_activation\n",
        "\n",
        "for i in range(len(last_layer_activation[0])):\n",
        "  for j in range(len(last_layer_activation[0][i])):\n",
        "    last_layer_activation[0][i][j]=(last_layer_activation[0][i][j]*weights_ratio[0][i][j])\n",
        "\n",
        "for i in range(len(last_layer_activation[0])):\n",
        "  for j in range(len(last_layer_activation[0][i])):\n",
        "    for k in range(len(last_layer_activation[0][i][j])):\n",
        "      if last_layer_activation[0][i][j][k]<0.:\n",
        "        last_layer_activation[0][i][j][k]=0.\n",
        "\n",
        "heatmap = np.mean(last_layer_activation, axis=-1)\n",
        "heatmap = np.maximum(heatmap, 0) / np.max(heatmap)\n",
        "plt.imshow(heatmap[0])\n",
        "plt.savefig(\"heatmap_hl_1239.jpg\")\n",
        "heatmap=heatmap[0,:,:,]\n",
        "\n",
        "img = keras.preprocessing.image.load_img('/content/drive/MyDrive/Phd_Data_set_Implementation/Aug-Training-four/BL/HL_0_1239.jpeg')\n",
        "img = keras.preprocessing.image.img_to_array(img)\n",
        "heatmap = np.uint8(255 * heatmap)\n",
        "jet = cm.get_cmap(\"jet\")\n",
        "jet_colors = jet(np.arange(256))[:, :3]\n",
        "jet_heatmap = jet_colors[heatmap]\n",
        "jet_heatmap = keras.preprocessing.image.array_to_img(jet_heatmap)\n",
        "jet_heatmap = jet_heatmap.resize((img.shape[1], img.shape[0]))\n",
        "jet_heatmap = keras.preprocessing.image.img_to_array(jet_heatmap)\n",
        "superimposed_img = jet_heatmap * 0.7 + img\n",
        "superimposed_img = keras.preprocessing.image.array_to_img(superimposed_img)\n",
        "save_path = \"final_image_bl_hl_0_1239.jpg\"\n",
        "superimposed_img.save(save_path)\n",
        "display(Image(save_path))"
      ],
      "execution_count": null,
      "outputs": [
        {
          "output_type": "display_data",
          "data": {
            "image/png": "[encoded data removed]",
            "text/plain": [
              "<Figure size 432x288 with 1 Axes>"
            ]
          },
          "metadata": {
            "tags": [],
            "needs_background": "light"
          }
        },
        {
          "output_type": "stream",
          "text": [
            "(1, 32, 32, 3)\n",
            "(1, 7, 7, 32)\n"
          ],
          "name": "stdout"
        },
        {
          "output_type": "display_data",
          "data": {
            "image/jpeg": "[encoded data removed]",
            "text/plain": [
              "<IPython.core.display.Image object>"
            ]
          },
          "metadata": {
            "tags": []
          }
        },
        {
          "output_type": "display_data",
          "data": {
            "image/png": "[encoded data removed]",
            "text/plain": [
              "<Figure size 432x288 with 1 Axes>"
            ]
          },
          "metadata": {
            "tags": [],
            "needs_background": "light"
          }
        }
      ]
    },
    {
      "cell_type": "code",
      "metadata": {
        "colab": {
          "base_uri": "https://localhost:8080/",
          "height": 773
        },
        "id": "ZCNNv_1M9UUH",
        "outputId": "db1f9e9e-4341-4380-d0d9-465ec577ec59"
      },
      "source": [
        "img = keras.preprocessing.image.load_img('/content/drive/MyDrive/Phd_Data_set_Implementation/Aug-Training-four/HL/HL_0_1088.jpeg',target_size=(32,32,3))\n",
        "img = keras.preprocessing.image.img_to_array(img)\n",
        "array=keras.preprocessing.image.img_to_array(img)\n",
        "array=np.expand_dims(array,axis=0)\n",
        "img_tensor = array\n",
        "img_tensor /= 255.\n",
        "plt.imshow(img_tensor[0])\n",
        "plt.show()\n",
        "print(img_tensor.shape)\n",
        "\n",
        "model.predict(img_tensor)\n",
        "\n",
        "activations = activation_model.predict(img_tensor) \n",
        "last_layer_activation = activations[8]\n",
        "print(last_layer_activation.shape)\n",
        "\n",
        "heatmap = np.mean(last_layer_activation, axis=-1)\n",
        "heatmap = np.maximum(heatmap, 0) / np.max(heatmap)\n",
        "plt.imshow(heatmap[0])\n",
        "heatmap=heatmap[0,:,:,]\n",
        "\n",
        "eps = K.epsilon()\n",
        "for i in range(len(last_layer_activation[0])):\n",
        "  for j in range(len(last_layer_activation[0][i])):\n",
        "    for k in range(len(last_layer_activation[0][i][j])):\n",
        "      if last_layer_activation[0][i][j][k]==0.:\n",
        "        last_layer_activation[0][i][j][k]=eps\n",
        "\n",
        "image_final=np.zeros_like(img_tensor)\n",
        "activations_final = activation_model.predict(image_final) \n",
        "\n",
        "last_layer_activation_final = activations_final[8]\n",
        "\n",
        "heatmap_final = np.mean(last_layer_activation_final, axis=-1)\n",
        "heatmap_final = np.maximum(heatmap_final, 0) / np.max(heatmap_final)\n",
        "plt.imshow(heatmap_final[0])\n",
        "\n",
        "weights_ratio=(last_layer_activation-last_layer_activation_final)/last_layer_activation\n",
        "\n",
        "for i in range(len(last_layer_activation[0])):\n",
        "  for j in range(len(last_layer_activation[0][i])):\n",
        "    last_layer_activation[0][i][j]=(last_layer_activation[0][i][j]*weights_ratio[0][i][j])\n",
        "\n",
        "for i in range(len(last_layer_activation[0])):\n",
        "  for j in range(len(last_layer_activation[0][i])):\n",
        "    for k in range(len(last_layer_activation[0][i][j])):\n",
        "      if last_layer_activation[0][i][j][k]<0.:\n",
        "        last_layer_activation[0][i][j][k]=0.\n",
        "\n",
        "heatmap = np.mean(last_layer_activation, axis=-1)\n",
        "heatmap = np.maximum(heatmap, 0) / np.max(heatmap)\n",
        "plt.imshow(heatmap[0])\n",
        "plt.savefig(\"heatmap_hl.jpg\")\n",
        "heatmap=heatmap[0,:,:,]\n",
        "\n",
        "img = keras.preprocessing.image.load_img('/content/drive/MyDrive/Phd_Data_set_Implementation/Aug-Training-four/HL/HL_0_1088.jpeg')\n",
        "img = keras.preprocessing.image.img_to_array(img)\n",
        "heatmap = np.uint8(255 * heatmap)\n",
        "jet = cm.get_cmap(\"jet\")\n",
        "jet_colors = jet(np.arange(256))[:, :3]\n",
        "jet_heatmap = jet_colors[heatmap]\n",
        "jet_heatmap = keras.preprocessing.image.array_to_img(jet_heatmap)\n",
        "jet_heatmap = jet_heatmap.resize((img.shape[1], img.shape[0]))\n",
        "jet_heatmap = keras.preprocessing.image.img_to_array(jet_heatmap)\n",
        "superimposed_img = jet_heatmap * 0.7 + img\n",
        "superimposed_img = keras.preprocessing.image.array_to_img(superimposed_img)\n",
        "save_path = \"final_image_hl_1088.jpg\"\n",
        "superimposed_img.save(save_path)\n",
        "display(Image(save_path))"
      ],
      "execution_count": null,
      "outputs": [
        {
          "output_type": "display_data",
          "data": {
            "image/png": "[encoded data removed]",
            "text/plain": [
              "<Figure size 432x288 with 1 Axes>"
            ]
          },
          "metadata": {
            "tags": [],
            "needs_background": "light"
          }
        },
        {
          "output_type": "stream",
          "text": [
            "(1, 32, 32, 3)\n",
            "(1, 7, 7, 32)\n"
          ],
          "name": "stdout"
        },
        {
          "output_type": "display_data",
          "data": {
            "image/jpeg": "[encoded data removed]",
            "text/plain": [
              "<IPython.core.display.Image object>"
            ]
          },
          "metadata": {
            "tags": []
          }
        },
        {
          "output_type": "display_data",
          "data": {
            "image/png": "[encoded data removed]",
            "text/plain": [
              "<Figure size 432x288 with 1 Axes>"
            ]
          },
          "metadata": {
            "tags": [],
            "needs_background": "light"
          }
        }
      ]
    },
    {
      "cell_type": "code",
      "metadata": {
        "id": "zl5U3TTK90s7"
      },
      "source": [
        ""
      ],
      "execution_count": null,
      "outputs": []
    }
  ]
}